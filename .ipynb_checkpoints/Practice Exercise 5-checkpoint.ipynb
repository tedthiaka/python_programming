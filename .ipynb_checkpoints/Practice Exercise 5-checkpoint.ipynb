{
 "cells": [
  {
   "cell_type": "markdown",
   "metadata": {},
   "source": [
    "# Question 1"
   ]
  },
  {
   "cell_type": "code",
   "execution_count": 16,
   "metadata": {},
   "outputs": [
    {
     "name": "stdout",
     "output_type": "stream",
     "text": [
      "[2, 4]\n",
      "[6, 8, 10]\n"
     ]
    },
    {
     "data": {
      "text/plain": [
       "[2, 4, 6, 8, 10]"
      ]
     },
     "execution_count": 16,
     "metadata": {},
     "output_type": "execute_result"
    }
   ],
   "source": [
    "def listoutput(listOne,listTwo):\n",
    "        listThree = list()\n",
    "        print(listOne[1::2])\n",
    "        print(listTwo[0::2])\n",
    "        listThree=(listOne[1::2])+(listTwo[0::2])\n",
    "        return listThree\n",
    "a = [1,2,3,4,5]\n",
    "b = [6,7,8,9,10]\n",
    "listoutput(a,b)"
   ]
  },
  {
   "cell_type": "code",
   "execution_count": 17,
   "metadata": {},
   "outputs": [
    {
     "name": "stdout",
     "output_type": "stream",
     "text": [
      "[6, 12, 18]\n",
      "[4, 12, 20, 28]\n",
      "[1, 3, 5, 7, 9]\n",
      "[0, 2, 4, 6, 8]\n"
     ]
    },
    {
     "data": {
      "text/plain": [
       "[1, 3, 5, 7, 9, 0, 2, 4, 6, 8]"
      ]
     },
     "execution_count": 17,
     "metadata": {},
     "output_type": "execute_result"
    }
   ],
   "source": [
    "listoutput([3,6,9,12,15,18,21],[4,8,12,16,20,24,28])\n",
    "listoutput([0,1,2,3,4,5,6,7,8,9],[0,1,2,3,4,5,6,7,8,9])"
   ]
  },
  {
   "cell_type": "markdown",
   "metadata": {},
   "source": [
    "# Question 2 "
   ]
  },
  {
   "cell_type": "code",
   "execution_count": 65,
   "metadata": {},
   "outputs": [
    {
     "name": "stdout",
     "output_type": "stream",
     "text": [
      "(30, 60, 45)\n"
     ]
    }
   ],
   "source": [
    "def remove(a,b):\n",
    "    e = []\n",
    "    for c in a:\n",
    "        e.append(c)\n",
    "        for d in b:\n",
    "            if d == c:\n",
    "                e.remove(c)\n",
    "            else:\n",
    "                continue\n",
    "    return tuple(e)\n",
    "first=(10,30,40,60,45)\n",
    "second=(20,50,10,40,55)\n",
    "print(remove(first,second))"
   ]
  }
 ],
 "metadata": {
  "kernelspec": {
   "display_name": "Python 3",
   "language": "python",
   "name": "python3"
  },
  "language_info": {
   "codemirror_mode": {
    "name": "ipython",
    "version": 3
   },
   "file_extension": ".py",
   "mimetype": "text/x-python",
   "name": "python",
   "nbconvert_exporter": "python",
   "pygments_lexer": "ipython3",
   "version": "3.7.3"
  }
 },
 "nbformat": 4,
 "nbformat_minor": 2
}
