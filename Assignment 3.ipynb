{
 "cells": [
  {
   "cell_type": "code",
   "execution_count": 1,
   "metadata": {},
   "outputs": [
    {
     "name": "stdout",
     "output_type": "stream",
     "text": [
      "How many hours worked? 45\n",
      "What is the rate per hour? 10\n",
      "The Pay is  475.0\n"
     ]
    }
   ],
   "source": [
    "try:\n",
    "    def computepay(h,r): \n",
    "        if h>40:\n",
    "            return (h-40)*(r*1.5)+(40*r)\n",
    "        else:\n",
    "            return h*r\n",
    "\n",
    "    hours = float(input(\"How many hours worked? \"))\n",
    "    rate = float(input(\"What is the rate per hour? \"))\n",
    "\n",
    "    print(\"The Pay is \",computepay(hours,rate))\n",
    "except:\n",
    "    print(\"Error, numerical values only\")"
   ]
  }
 ],
 "metadata": {
  "kernelspec": {
   "display_name": "Python 3",
   "language": "python",
   "name": "python3"
  },
  "language_info": {
   "codemirror_mode": {
    "name": "ipython",
    "version": 3
   },
   "file_extension": ".py",
   "mimetype": "text/x-python",
   "name": "python",
   "nbconvert_exporter": "python",
   "pygments_lexer": "ipython3",
   "version": "3.7.3"
  }
 },
 "nbformat": 4,
 "nbformat_minor": 2
}
