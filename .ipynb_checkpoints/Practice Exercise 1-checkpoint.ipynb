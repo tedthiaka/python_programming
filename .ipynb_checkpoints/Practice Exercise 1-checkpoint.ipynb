{
 "cells": [
  {
   "cell_type": "markdown",
   "metadata": {},
   "source": [
    "# Question 1 "
   ]
  },
  {
   "cell_type": "code",
   "execution_count": 1,
   "metadata": {},
   "outputs": [
    {
     "name": "stdout",
     "output_type": "stream",
     "text": [
      "Enter the value for length: 56\n",
      "Enter the value for width: 56\n",
      "This is a square.\n"
     ]
    }
   ],
   "source": [
    "try:\n",
    "    length = float(input(\"Enter the value for length: \"))\n",
    "    width = float(input(\"Enter the value for width: \"))\n",
    "\n",
    "    if length == width:\n",
    "        print(\"This is a square.\")\n",
    "    else:\n",
    "        print(\"This is a rectangle.\")\n",
    "except:\n",
    "    print(\"Enter Numerical values please.\")"
   ]
  },
  {
   "cell_type": "markdown",
   "metadata": {},
   "source": [
    "# Question 2"
   ]
  },
  {
   "cell_type": "code",
   "execution_count": 3,
   "metadata": {},
   "outputs": [
    {
     "name": "stdout",
     "output_type": "stream",
     "text": [
      "Enter your value 'x'6\n",
      "Enter your value 'y'6\n",
      "x is equal to y\n"
     ]
    }
   ],
   "source": [
    "try:\n",
    "    x = int(input(\"Enter your value 'x'\"))\n",
    "    y = int(input(\"Enter your value 'y'\"))\n",
    "\n",
    "    if x > y:\n",
    "        print(x,\"is greater than\",y)\n",
    "    elif x < y:\n",
    "        print(y,'is greater than',x)\n",
    "    else:\n",
    "        print('x is equal to y')\n",
    "except:\n",
    "    print('Please enter integer values')"
   ]
  },
  {
   "cell_type": "markdown",
   "metadata": {},
   "source": [
    "# Question 3"
   ]
  },
  {
   "cell_type": "code",
   "execution_count": 6,
   "metadata": {},
   "outputs": [
    {
     "name": "stdout",
     "output_type": "stream",
     "text": [
      "Enter the quantity of goods purchased: 67\n",
      "The total cost is 6030.0 and the Discount is 670.0\n"
     ]
    }
   ],
   "source": [
    "try:\n",
    "    quantity = float(input(\"Enter the quantity of goods purchased: \"))\n",
    "    unit = 100\n",
    "    Cost = quantity*unit\n",
    "    Discount = 0\n",
    "    if Cost >1000:\n",
    "        Discount = 10/100*Cost\n",
    "        Total_Cost = Cost - Discount\n",
    "    else:\n",
    "        Total_Cost = Cost\n",
    "    print(\"The total cost is\",Total_Cost,\"and the Discount is\",Discount)\n",
    "except:\n",
    "    print(\"Please enter numerical values\")"
   ]
  },
  {
   "cell_type": "markdown",
   "metadata": {},
   "source": [
    "# Question 4"
   ]
  },
  {
   "cell_type": "code",
   "execution_count": 9,
   "metadata": {},
   "outputs": [
    {
     "name": "stdout",
     "output_type": "stream",
     "text": [
      "Enter your salary amount: 2345678\n",
      "Enter your years of service with the company: 34\n",
      "Your bonus is 351851.7 and your Net Bonus is 2697529.7\n"
     ]
    }
   ],
   "source": [
    "try:\n",
    "    salary = float(input(\"Enter your salary amount: \"))\n",
    "    years = float(input(\"Enter your years of service with the company: \"))\n",
    "    if years <=5:\n",
    "        Bonus = 5/100 * salary\n",
    "        Net_bonus = salary + Bonus\n",
    "    elif years < 10:\n",
    "        Bonus = 10/100 * salary\n",
    "        Net_bonus = salary + Bonus\n",
    "    elif years >=10:\n",
    "        Bonus = 15/100 * salary\n",
    "        Net_bonus = salary + Bonus\n",
    "    print(\"Your bonus is\",Bonus,\"and your Net Bonus is\",Net_bonus)\n",
    "except:\n",
    "    print(\"Enter numerical values please.\")"
   ]
  },
  {
   "cell_type": "markdown",
   "metadata": {},
   "source": [
    "# Question 5"
   ]
  },
  {
   "cell_type": "code",
   "execution_count": 14,
   "metadata": {},
   "outputs": [
    {
     "name": "stdout",
     "output_type": "stream",
     "text": [
      "Enter your marks: 123\n",
      "Enter a value less than 100\n"
     ]
    }
   ],
   "source": [
    "try:    \n",
    "    marks = float(input(\"Enter your marks: \"))\n",
    "    \n",
    "    if marks < 0:\n",
    "        print(\"Enter a value more than 0\")\n",
    "    elif marks > 100:\n",
    "        print(\"Enter a value less than 100\")\n",
    "    elif marks < 25:\n",
    "        print(\"Grade: F\")\n",
    "    elif marks < 45:\n",
    "        print(\"Grade: E\")\n",
    "    elif marks < 50:\n",
    "        print(\"Grade: D\")\n",
    "    elif marks < 60:\n",
    "        print(\"Grade: c\")\n",
    "    elif marks <= 80:\n",
    "        print(\"Grade: B\")\n",
    "    elif marks > 80:\n",
    "        print(\"Grade: A\")\n",
    "except:\n",
    "    print(\"Enter numerical values.\")"
   ]
  },
  {
   "cell_type": "markdown",
   "metadata": {},
   "source": [
    "# Question 6"
   ]
  },
  {
   "cell_type": "code",
   "execution_count": 27,
   "metadata": {},
   "outputs": [
    {
     "name": "stdout",
     "output_type": "stream",
     "text": [
      "Enter the name of the 1st person:John\n",
      "Enter the name of the 2nd person:James\n",
      "Enter the name of the 3rd person:Jacob\n",
      "Enter the age of the 1st person:12\n",
      "Enter the age of the 2nd person:2\n",
      "Enter the age of the 3rd person:32\n",
      "Jacob is the oldest and James is the youngest.\n",
      "15.333333333333334\n"
     ]
    }
   ],
   "source": [
    "try:\n",
    "    person1 = str(input(\"Enter the name of the 1st person:\"))\n",
    "    person2 = str(input(\"Enter the name of the 2nd person:\"))\n",
    "    person3 = str(input(\"Enter the name of the 3rd person:\"))\n",
    "    \n",
    "    age1 = float(input(\"Enter the age of the 1st person:\"))\n",
    "    age2 = float(input(\"Enter the age of the 2nd person:\"))\n",
    "    age3 = float(input(\"Enter the age of the 3rd person:\"))\n",
    "    \n",
    "    if age1 > age2 and age2 > age3:\n",
    "        print(person1+\" is the oldest and \"+person3+\" is the youngest.\")\n",
    "    elif age1 > age3 and age3 > age2:\n",
    "        print(person1+\" is the oldest and \"+person2+\" is the youngest.\")\n",
    "    elif age2 > age1 and age1 > age3:\n",
    "        print(person2+\" is the oldest and \"+person3+\" is the youngest.\")\n",
    "    elif age2 > age1 and age1 > age3:\n",
    "        print(person2+\" is the oldest and \"+person3+\" is the youngest.\")\n",
    "    elif age3 > age1 and age1 > age2:\n",
    "        print(person3+\" is the oldest and \"+person2+\" is the youngest.\")\n",
    "    elif age3 > age2 and age2 > age1:\n",
    "        print(person3+\" is the oldest and \"+person1+\" is the youngest.\")\n",
    "    print((age1+age2+age3)/3)\n",
    "    \n",
    "except:\n",
    "    print(\"Enter numerical values: \")"
   ]
  },
  {
   "cell_type": "markdown",
   "metadata": {},
   "source": [
    "# Question 7"
   ]
  },
  {
   "cell_type": "code",
   "execution_count": 31,
   "metadata": {},
   "outputs": [
    {
     "name": "stdout",
     "output_type": "stream",
     "text": [
      "Enter the number of classes held: 1\n",
      "Enter the number of classes attended: 32\n",
      "Attendance: 3200.0 %\n",
      "Please enter correct class attendance/classes held.\n"
     ]
    }
   ],
   "source": [
    "try:\n",
    "    class_held = float(input(\"Enter the number of classes held: \"))\n",
    "    class_attended = float(input(\"Enter the number of classes attended: \"))\n",
    "    \n",
    "    attendance = (class_attended/class_held)*100\n",
    "    print(\"Attendance:\",attendance,\"%\")\n",
    "    if attendance > 100 or attendance < 0:\n",
    "        print(\"Please enter correct class attendance/classes held.\")\n",
    "    elif attendance >= 75:\n",
    "        print(\"Allowed to sit for exams.\")\n",
    "    else:\n",
    "        print(\"Not allowed to sit for exams.\")\n",
    "except:\n",
    "    print(\"Please enter numerical values only.\")"
   ]
  },
  {
   "cell_type": "markdown",
   "metadata": {},
   "source": [
    "# Question 8"
   ]
  },
  {
   "cell_type": "code",
   "execution_count": 35,
   "metadata": {},
   "outputs": [
    {
     "name": "stdout",
     "output_type": "stream",
     "text": [
      "Enter the number of classes held: 12\n",
      "Enter the number of classes attended: 2\n",
      "Do you have a medical cause: Y/N- Y\n",
      "Attendance: 16.666666666666664 %\n",
      "Allowed to sit for exams.\n"
     ]
    }
   ],
   "source": [
    "try:\n",
    "    class_held = float(input(\"Enter the number of classes held: \"))\n",
    "    class_attended = float(input(\"Enter the number of classes attended: \"))\n",
    "    medical_cause = str(input(\"Do you have a medical cause: Y/N- \"))\n",
    "    \n",
    "    attendance = (class_attended/class_held)*100\n",
    "    print(\"Attendance:\",attendance,\"%\")\n",
    "    if attendance > 100 or attendance < 0:\n",
    "        print(\"Please enter correct class attendance/classes held.\")\n",
    "    elif attendance >= 75 or medical_cause == \"Y\":\n",
    "        print(\"Allowed to sit for exams.\")\n",
    "    else:\n",
    "        print(\"Not allowed to sit for exams.\")\n",
    "except:\n",
    "    print(\"Please enter numerical values only.\")"
   ]
  },
  {
   "cell_type": "code",
   "execution_count": null,
   "metadata": {},
   "outputs": [],
   "source": []
  }
 ],
 "metadata": {
  "kernelspec": {
   "display_name": "Python 3",
   "language": "python",
   "name": "python3"
  },
  "language_info": {
   "codemirror_mode": {
    "name": "ipython",
    "version": 3
   },
   "file_extension": ".py",
   "mimetype": "text/x-python",
   "name": "python",
   "nbconvert_exporter": "python",
   "pygments_lexer": "ipython3",
   "version": "3.7.3"
  }
 },
 "nbformat": 4,
 "nbformat_minor": 2
}
