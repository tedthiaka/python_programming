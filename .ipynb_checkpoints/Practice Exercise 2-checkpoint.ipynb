{
 "cells": [
  {
   "cell_type": "markdown",
   "metadata": {},
   "source": [
    "# Question 1"
   ]
  },
  {
   "cell_type": "code",
   "execution_count": 2,
   "metadata": {},
   "outputs": [
    {
     "data": {
      "text/plain": [
       "7"
      ]
     },
     "execution_count": 2,
     "metadata": {},
     "output_type": "execute_result"
    }
   ],
   "source": [
    "def add(a,b):\n",
    "    \n",
    "    return a + b\n",
    "add(3,4)"
   ]
  },
  {
   "cell_type": "code",
   "execution_count": 7,
   "metadata": {},
   "outputs": [
    {
     "name": "stdout",
     "output_type": "stream",
     "text": [
      "Enter your first number: 34\n",
      "Enter your second number: 34\n"
     ]
    },
    {
     "data": {
      "text/plain": [
       "68.0"
      ]
     },
     "execution_count": 7,
     "metadata": {},
     "output_type": "execute_result"
    }
   ],
   "source": [
    "def addnum():\n",
    "    a = float(input(\"Enter your first number: \"))\n",
    "    b = float(input(\"Enter your second number: \"))\n",
    "    return a + b\n",
    "addnum()"
   ]
  },
  {
   "cell_type": "markdown",
   "metadata": {},
   "source": [
    "# Question 2"
   ]
  },
  {
   "cell_type": "code",
   "execution_count": 8,
   "metadata": {},
   "outputs": [
    {
     "name": "stdout",
     "output_type": "stream",
     "text": [
      "Enter your string: 23\n"
     ]
    },
    {
     "data": {
      "text/plain": [
       "'23'"
      ]
     },
     "execution_count": 8,
     "metadata": {},
     "output_type": "execute_result"
    }
   ],
   "source": [
    "def convert():\n",
    "    a = int(input(\"Enter your string: \"))\n",
    "    return str(a)\n",
    "convert()"
   ]
  },
  {
   "cell_type": "markdown",
   "metadata": {},
   "source": [
    "# Question 3"
   ]
  },
  {
   "cell_type": "code",
   "execution_count": 10,
   "metadata": {},
   "outputs": [
    {
     "name": "stdout",
     "output_type": "stream",
     "text": [
      "Enter your number1: 45\n",
      "Enter your number2: 45\n"
     ]
    },
    {
     "data": {
      "text/plain": [
       "90"
      ]
     },
     "execution_count": 10,
     "metadata": {},
     "output_type": "execute_result"
    }
   ],
   "source": [
    "def stradd():\n",
    "    a = input(\"Enter your number1: \")\n",
    "    b = input(\"Enter your number2: \")\n",
    "    return int(a) + int(b)\n",
    "stradd()"
   ]
  },
  {
   "cell_type": "markdown",
   "metadata": {},
   "source": [
    "# Question 4"
   ]
  },
  {
   "cell_type": "code",
   "execution_count": 13,
   "metadata": {},
   "outputs": [
    {
     "name": "stdout",
     "output_type": "stream",
     "text": [
      "Enter first string: 3345\n",
      "Enter second string: 34232\n"
     ]
    },
    {
     "data": {
      "text/plain": [
       "'3345 34232'"
      ]
     },
     "execution_count": 13,
     "metadata": {},
     "output_type": "execute_result"
    }
   ],
   "source": [
    "def strings():\n",
    "    a = input(\"Enter first string: \")\n",
    "    b = input(\"Enter second string: \")\n",
    "    return a + \" \" + b\n",
    "strings()"
   ]
  },
  {
   "cell_type": "markdown",
   "metadata": {},
   "source": [
    "# Question 5"
   ]
  },
  {
   "cell_type": "code",
   "execution_count": 11,
   "metadata": {},
   "outputs": [
    {
     "name": "stdout",
     "output_type": "stream",
     "text": [
      "Enter your number: 34\n",
      "It is an even number\n"
     ]
    }
   ],
   "source": [
    "def evenodd():\n",
    "    a = int(input(\"Enter your number: \"))\n",
    "    if a%2 == 0:\n",
    "        print(\"It is an even number\")\n",
    "    else:\n",
    "        print(\"It is an odd number\")\n",
    "evenodd()"
   ]
  },
  {
   "cell_type": "markdown",
   "metadata": {},
   "source": [
    "# Question 6"
   ]
  },
  {
   "cell_type": "code",
   "execution_count": 14,
   "metadata": {},
   "outputs": [
    {
     "name": "stdout",
     "output_type": "stream",
     "text": [
      "Enter first integer: 34\n",
      "Enter second integer: 4\n",
      "34  is greater than  4\n"
     ]
    }
   ],
   "source": [
    "def greatest():\n",
    "    a = int(input(\"Enter first integer: \"))\n",
    "    b = int(input(\"Enter second integer: \"))\n",
    "    if a > b:\n",
    "        print(a, \" is greater than \", b)\n",
    "    else:\n",
    "        print(b, \" is greater than \", a)\n",
    "greatest()"
   ]
  },
  {
   "cell_type": "markdown",
   "metadata": {},
   "source": [
    "# Question 7"
   ]
  },
  {
   "cell_type": "code",
   "execution_count": 16,
   "metadata": {},
   "outputs": [
    {
     "name": "stdout",
     "output_type": "stream",
     "text": [
      "Enter first integer: 34\n",
      "Enter second integer: 56\n",
      "Enter third integer: 77\n",
      "34  is the smallest integer.\n"
     ]
    }
   ],
   "source": [
    "def smallest():\n",
    "    a = int(input(\"Enter first integer: \"))\n",
    "    b = int(input(\"Enter second integer: \"))\n",
    "    c = int(input(\"Enter third integer: \"))\n",
    "    if a < b and a < c:\n",
    "        print(a, ' is the smallest integer.')\n",
    "    elif b < a and b < c:\n",
    "        print(b, ' is the smallest integer.')\n",
    "    elif c < a and c < b:\n",
    "        print(c,\" is the smallest integer.\")\n",
    "smallest()"
   ]
  },
  {
   "cell_type": "markdown",
   "metadata": {},
   "source": [
    "# Question 8"
   ]
  },
  {
   "cell_type": "code",
   "execution_count": 17,
   "metadata": {},
   "outputs": [
    {
     "name": "stdout",
     "output_type": "stream",
     "text": [
      "Enter the score: 34\n",
      "Grade: F\n"
     ]
    }
   ],
   "source": [
    "def grade():\n",
    "    score = float(input(\"Enter the score: \"))\n",
    "    if score < 40:\n",
    "        print(\"Grade: F\")\n",
    "    elif score < 50:\n",
    "        print(\"Grade: D\")\n",
    "    elif score < 60:\n",
    "        print(\"Grade: C\")\n",
    "    elif score < 70:\n",
    "        print(\"Grade: B\")\n",
    "    elif score >= 70:\n",
    "        print(\"Grade: A\")\n",
    "grade()"
   ]
  },
  {
   "cell_type": "markdown",
   "metadata": {},
   "source": [
    "# Question 9"
   ]
  },
  {
   "cell_type": "code",
   "execution_count": 21,
   "metadata": {},
   "outputs": [
    {
     "name": "stdout",
     "output_type": "stream",
     "text": [
      "Enter the length of the triangle:2\n",
      "Enter the width of the triangle: 3\n"
     ]
    },
    {
     "data": {
      "text/plain": [
       "3.0"
      ]
     },
     "execution_count": 21,
     "metadata": {},
     "output_type": "execute_result"
    }
   ],
   "source": [
    "def areatriangle():\n",
    "    l = float(input(\"Enter the length of the triangle:\"))\n",
    "    w = float(input(\"Enter the width of the triangle: \"))\n",
    "    return 0.5*l*w\n",
    "areatriangle()"
   ]
  },
  {
   "cell_type": "code",
   "execution_count": null,
   "metadata": {},
   "outputs": [],
   "source": []
  }
 ],
 "metadata": {
  "kernelspec": {
   "display_name": "Python 3",
   "language": "python",
   "name": "python3"
  },
  "language_info": {
   "codemirror_mode": {
    "name": "ipython",
    "version": 3
   },
   "file_extension": ".py",
   "mimetype": "text/x-python",
   "name": "python",
   "nbconvert_exporter": "python",
   "pygments_lexer": "ipython3",
   "version": "3.7.3"
  }
 },
 "nbformat": 4,
 "nbformat_minor": 2
}
