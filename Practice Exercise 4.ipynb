{
 "cells": [
  {
   "cell_type": "markdown",
   "metadata": {},
   "source": [
    "# Question 1 "
   ]
  },
  {
   "cell_type": "code",
   "execution_count": 1,
   "metadata": {},
   "outputs": [
    {
     "name": "stdout",
     "output_type": "stream",
     "text": [
      "[6, 12, 18, 4, 12, 20, 28]\n"
     ]
    }
   ],
   "source": [
    "listOne = [3, 6, 9, 12, 15, 18, 21]\n",
    "listTwo = [4, 8, 12, 16, 20, 24, 28]\n",
    "print(listOne[1::2]+listTwo[0::2])"
   ]
  },
  {
   "cell_type": "markdown",
   "metadata": {},
   "source": [
    "# Question 2"
   ]
  },
  {
   "cell_type": "code",
   "execution_count": 2,
   "metadata": {},
   "outputs": [
    {
     "name": "stdout",
     "output_type": "stream",
     "text": [
      "(30, 60, 45)\n"
     ]
    }
   ],
   "source": [
    "Set1 = (10, 30, 40 , 60, 45)\n",
    "Set2 = (20, 50, 10 , 40, 55)\n",
    "List = list()\n",
    "a = list(Set1)\n",
    "b = list(Set2)\n",
    "for c in Set1:\n",
    "    for d in Set2:\n",
    "        if d == c:\n",
    "            a.remove(d)\n",
    "        else:\n",
    "            continue\n",
    "Outcome = tuple(a)\n",
    "print(Outcome)"
   ]
  },
  {
   "cell_type": "markdown",
   "metadata": {},
   "source": [
    "# Question 3"
   ]
  },
  {
   "cell_type": "code",
   "execution_count": 27,
   "metadata": {},
   "outputs": [
    {
     "name": "stdout",
     "output_type": "stream",
     "text": [
      "Enter your numbers: 54, 44, 27, 79, 91, 41\n",
      "[54, 44, 27, 79, 91, 41]\n",
      "[54, 44, 91, 27, 79, 41, 91]\n"
     ]
    }
   ],
   "source": [
    "numbers = input(\"Enter your numbers: \")\n",
    "#Changing the string to a list of integers\n",
    "list1 = numbers.split(\",\")\n",
    "for loop in (list1):\n",
    "    list1[list1.index(loop)] = int(loop)\n",
    "print(list1)\n",
    "a = list1[4]\n",
    "list1.remove(a)\n",
    "list1.insert(2,a)\n",
    "list1.append(a)\n",
    "print(list1)"
   ]
  },
  {
   "cell_type": "markdown",
   "metadata": {},
   "source": [
    "# Question 5"
   ]
  },
  {
   "cell_type": "code",
   "execution_count": 50,
   "metadata": {},
   "outputs": [
    {
     "name": "stdout",
     "output_type": "stream",
     "text": [
      "[3, 2, 1] [6, 5, 4] [9, 8, 7]\n"
     ]
    }
   ],
   "source": [
    "a = [1, 2, 3, 4, 5, 6, 7, 8, 9]\n",
    "\n",
    "b = a[0:3]\n",
    "c = a[3:6]\n",
    "d = a[6:9]\n",
    "b.reverse()\n",
    "c.reverse()\n",
    "d.reverse()\n",
    "print(b,c,d)"
   ]
  },
  {
   "cell_type": "markdown",
   "metadata": {},
   "source": [
    "# Question 6"
   ]
  },
  {
   "cell_type": "code",
   "execution_count": 53,
   "metadata": {},
   "outputs": [
    {
     "name": "stdout",
     "output_type": "stream",
     "text": [
      "{10: 2, 20: 2, 30: 1, 40: 1, 50: 1}\n"
     ]
    }
   ],
   "source": [
    "list2 =[10, 20, 30, 10, 20, 40, 50]\n",
    "dict1 ={}\n",
    "for a in list2:\n",
    "    dict1[a] = dict1.get(a,0) + 1\n",
    "print(dict1)"
   ]
  },
  {
   "cell_type": "markdown",
   "metadata": {},
   "source": [
    "# Question 7"
   ]
  },
  {
   "cell_type": "code",
   "execution_count": 102,
   "metadata": {},
   "outputs": [
    {
     "name": "stdout",
     "output_type": "stream",
     "text": [
      "[47, 69, 76, 97]\n"
     ]
    }
   ],
   "source": [
    "rollNumber = [47,64,69,37,76,83,95,97]\n",
    "Dict ={'Jhon':47, 'Emma':69, 'Kelly':76, 'Jason':97}\n",
    "b = list()\n",
    "remove = list()\n",
    "for a in rollNumber:\n",
    "    if a not in list(Dict.values()):\n",
    "        remove.append(a)\n",
    "for b in range(len(remove)):\n",
    "    rollNumber.remove(remove[b])\n",
    "print(rollNumber)"
   ]
  },
  {
   "cell_type": "markdown",
   "metadata": {},
   "source": [
    "# Question 8"
   ]
  },
  {
   "cell_type": "code",
   "execution_count": 113,
   "metadata": {},
   "outputs": [
    {
     "name": "stdout",
     "output_type": "stream",
     "text": [
      "[87, 45, 65, 41, 99, 94]\n",
      "(87, 45, 65, 41, 99, 94)\n",
      "41\n",
      "99\n"
     ]
    }
   ],
   "source": [
    "list3 = [87, 45, 41, 65, 94, 41, 99, 94]\n",
    "list4 = list3\n",
    "for a in list4:\n",
    "    x = list4.count(a)\n",
    "    if x>1:\n",
    "        list3.remove(a)\n",
    "print(list3)\n",
    "print(tuple(list3))\n",
    "print(min(list3))\n",
    "print(max(list3))"
   ]
  },
  {
   "cell_type": "markdown",
   "metadata": {},
   "source": [
    "# Question 9"
   ]
  },
  {
   "cell_type": "code",
   "execution_count": 118,
   "metadata": {},
   "outputs": [
    {
     "name": "stdout",
     "output_type": "stream",
     "text": [
      "{'p': 3, 'y': 3, 'n': 3, 'a': 2, 't': 2, 'i': 2, 'v': 3, 'e': 3}\n"
     ]
    }
   ],
   "source": [
    "word =\"pynativepynvepynative\"\n",
    "letters = list(word)\n",
    "count = dict()\n",
    "for a in letters:\n",
    "    count[a] = count.get(a,0) + 1\n",
    "print(count)"
   ]
  },
  {
   "cell_type": "markdown",
   "metadata": {},
   "source": [
    "# Question 10"
   ]
  },
  {
   "cell_type": "code",
   "execution_count": 131,
   "metadata": {},
   "outputs": [
    {
     "name": "stdout",
     "output_type": "stream",
     "text": [
      "Characters:  15\n",
      "['P', '@', '#', 'y', 'n', '2', '6', 'a', 't', '^', '&', 'i', '5', 'v', 'e']\n",
      "Uppercase letters,  1\n",
      "Lowercase letters,  7\n",
      "Numbers:  3\n",
      "Symbols:  4\n"
     ]
    }
   ],
   "source": [
    "char = \"P@#yn26at^&i5ve\"\n",
    "print(\"Characters: \",len(char))\n",
    "sep = list(char)\n",
    "Numbers = 0\n",
    "Lowercase = 0\n",
    "Uppercase = 0\n",
    "Symbols = 0\n",
    "print(sep)\n",
    "for a in sep:\n",
    "    if a.isdigit():\n",
    "        Numbers = Numbers + 1\n",
    "    elif a.islower():\n",
    "        Lowercase = Lowercase + 1\n",
    "    elif a.isupper():\n",
    "        Uppercase = Uppercase + 1\n",
    "    else:\n",
    "        Symbols = Symbols + 1\n",
    "print(\"Uppercase letters, \",Uppercase)\n",
    "print(\"Lowercase letters, \",Lowercase)\n",
    "print(\"Numbers: \",Numbers)\n",
    "print(\"Symbols: \",Symbols)"
   ]
  },
  {
   "cell_type": "markdown",
   "metadata": {},
   "source": [
    "# Question 11 "
   ]
  },
  {
   "cell_type": "code",
   "execution_count": 140,
   "metadata": {},
   "outputs": [
    {
     "name": "stdout",
     "output_type": "stream",
     "text": [
      "Enter your name:\"JhonDipPeta\"\n",
      "Dip\n"
     ]
    }
   ],
   "source": [
    "name = input(\"Enter your name:\")\n",
    "\n",
    "if len(name)%2 ==0 and len(name)>=7:\n",
    "    \"Enter an odd numbered name! And of a length greater than 7\"\n",
    "else:\n",
    "    n = 7\n",
    "    n1 = len(name)\n",
    "    m = (2 + (n1-n)/2)\n",
    "    m1 = m+3\n",
    "    outcome = name[int(m):int(m1)]\n",
    "    print(outcome)"
   ]
  }
 ],
 "metadata": {
  "kernelspec": {
   "display_name": "Python 3",
   "language": "python",
   "name": "python3"
  },
  "language_info": {
   "codemirror_mode": {
    "name": "ipython",
    "version": 3
   },
   "file_extension": ".py",
   "mimetype": "text/x-python",
   "name": "python",
   "nbconvert_exporter": "python",
   "pygments_lexer": "ipython3",
   "version": "3.7.3"
  }
 },
 "nbformat": 4,
 "nbformat_minor": 2
}
