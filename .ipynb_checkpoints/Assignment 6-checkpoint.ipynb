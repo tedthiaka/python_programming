{
 "cells": [
  {
   "cell_type": "code",
   "execution_count": 96,
   "metadata": {
    "scrolled": true
   },
   "outputs": [
    {
     "name": "stdout",
     "output_type": "stream",
     "text": [
      "Thu is seen 352 times ,it is the day most seen\n",
      "29 is seen 140 times it is the date most seen\n"
     ]
    }
   ],
   "source": [
    "fhandle = open(\"mbox.txt\",\"r\")\n",
    "\n",
    "day = [\"Mon\",\"Tue\",\"Wed\",\"Thu\",\"Fri\",\"Sat\",\"Sun\"]\n",
    "date = [1,2,3,4,5,6,7,8,9,10,11,12,13,14,15,16,17,18,19,20,21,22,23,24,25,26,27,28,29,30,31]\n",
    "countday = [0,0,0,0,0,0,0]\n",
    "countdate = [0,0,0,0,0,0,0,0,0,0,0,0,0,0,0,0,0,0,0,0,0,0,0,0,0,0,0,0,0,0,0]\n",
    "################################################# Loop ########################################################################\n",
    "for a in fhandle:\n",
    "    if a.startswith(\"From\") and not a.startswith(\"From:\"):\n",
    "        b = a.split()\n",
    "################################################# For Day #####################################################################\n",
    "        c = 0\n",
    "        for d in day1:\n",
    "            if b[2] == d:\n",
    "                countday[c] = countday[c] + 1\n",
    "                break\n",
    "            else:\n",
    "                c = c+1\n",
    "                continue\n",
    "################################################### For date ##################################################################                \n",
    "        e = 0\n",
    "        for f in date1:\n",
    "            if int(b[4]) == f:\n",
    "                countdate[e] = countdate[e] + 1\n",
    "                break\n",
    "            else:\n",
    "                e = e+1\n",
    "                continue\n",
    "################################################## Print out ##################################################################\n",
    "print(day[countday.index(max(countday))],\"is seen\",max(countday),\"times\",\",it is the day most seen\")\n",
    "print(date[countdate.index(max(countdate))],\"is seen\",max(countdate),\"times\",\"it is the date most seen\")"
   ]
  }
 ],
 "metadata": {
  "kernelspec": {
   "display_name": "Python 3",
   "language": "python",
   "name": "python3"
  },
  "language_info": {
   "codemirror_mode": {
    "name": "ipython",
    "version": 3
   },
   "file_extension": ".py",
   "mimetype": "text/x-python",
   "name": "python",
   "nbconvert_exporter": "python",
   "pygments_lexer": "ipython3",
   "version": "3.7.3"
  }
 },
 "nbformat": 4,
 "nbformat_minor": 2
}
