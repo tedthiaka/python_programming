{
 "cells": [
  {
   "cell_type": "markdown",
   "metadata": {},
   "source": [
    "Build lists with different notation\n",
    "Make a list using a for a loop in one line\n",
    "new_list = [expression for_loop_one_or_more_conditions]"
   ]
  },
  {
   "cell_type": "code",
   "execution_count": 1,
   "metadata": {},
   "outputs": [],
   "source": [
    "x = [1,2,3,4]"
   ]
  },
  {
   "cell_type": "code",
   "execution_count": 3,
   "metadata": {},
   "outputs": [
    {
     "name": "stdout",
     "output_type": "stream",
     "text": [
      "[1, 4, 9, 16]\n"
     ]
    }
   ],
   "source": [
    "out = []\n",
    "for item in x:\n",
    "    out.append(item**2)\n",
    "print(out)"
   ]
  },
  {
   "cell_type": "code",
   "execution_count": 4,
   "metadata": {},
   "outputs": [],
   "source": [
    "out = [item**2 for item in x]"
   ]
  },
  {
   "cell_type": "code",
   "execution_count": 5,
   "metadata": {},
   "outputs": [],
   "source": [
    "#Grab every letter in string\n",
    "lst = [x for x in 'word']"
   ]
  },
  {
   "cell_type": "code",
   "execution_count": 21,
   "metadata": {},
   "outputs": [],
   "source": [
    "def compression(x):\n",
    "    \"\"\"This function takes a list and gets the square and the cube of all its values\n",
    "    param:x = The list of numbers\n",
    "    param type: list\n",
    "    return out1:Squares of the numbers in the list x\n",
    "    return out2:Cubes of the numbers in the list x\n",
    "    \"\"\"\n",
    "    out1 = [item**2 for item in x]\n",
    "    out2 = [item**3 for item in out1]\n",
    "    return out1,out2"
   ]
  },
  {
   "cell_type": "code",
   "execution_count": 22,
   "metadata": {},
   "outputs": [
    {
     "data": {
      "text/plain": [
       "([1, 4, 9, 16], [1, 64, 729, 4096])"
      ]
     },
     "execution_count": 22,
     "metadata": {},
     "output_type": "execute_result"
    }
   ],
   "source": [
    "compression(x)"
   ]
  },
  {
   "cell_type": "code",
   "execution_count": 23,
   "metadata": {},
   "outputs": [
    {
     "name": "stdout",
     "output_type": "stream",
     "text": [
      "Help on function compression in module __main__:\n",
      "\n",
      "compression(x)\n",
      "    This function takes a list and gets the square and the cube of all its values\n",
      "    param:x = The list of numbers\n",
      "    param type: list\n",
      "    return out1:Squares of the numbers in the list x\n",
      "    return out2:Cubes of the numbers in the list x\n",
      "\n"
     ]
    }
   ],
   "source": [
    "help(compression)"
   ]
  },
  {
   "cell_type": "code",
   "execution_count": 24,
   "metadata": {},
   "outputs": [],
   "source": [
    "celsius = [23,34,12,34.3,34]\n",
    "def celsius_to_farenheit(celsius):\n",
    "    \"\"\"\n",
    "    This is a function that converts a list of temperature degrees in celsius to farenheit\n",
    "    param celsius: A list containing numbers in degrees celsius\n",
    "    param type: List\n",
    "    return Farenheit: Returns a list containg the same values in list, celsius in degrees farenheit\n",
    "    \"\"\"\n",
    "    farenheit = [(temp*9/5)+32 for temp in celsius]\n",
    "    return farenheit"
   ]
  },
  {
   "cell_type": "code",
   "execution_count": 25,
   "metadata": {},
   "outputs": [
    {
     "data": {
      "text/plain": [
       "[73.4, 93.2, 53.6, 93.74, 93.2]"
      ]
     },
     "execution_count": 25,
     "metadata": {},
     "output_type": "execute_result"
    }
   ],
   "source": [
    "celsius_to_farenheit(celsius)"
   ]
  },
  {
   "cell_type": "code",
   "execution_count": null,
   "metadata": {},
   "outputs": [],
   "source": []
  }
 ],
 "metadata": {
  "kernelspec": {
   "display_name": "Python 3",
   "language": "python",
   "name": "python3"
  },
  "language_info": {
   "codemirror_mode": {
    "name": "ipython",
    "version": 3
   },
   "file_extension": ".py",
   "mimetype": "text/x-python",
   "name": "python",
   "nbconvert_exporter": "python",
   "pygments_lexer": "ipython3",
   "version": "3.7.3"
  }
 },
 "nbformat": 4,
 "nbformat_minor": 2
}
