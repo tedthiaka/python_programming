{
 "cells": [
  {
   "cell_type": "markdown",
   "metadata": {},
   "source": [
    "# Loops"
   ]
  },
  {
   "cell_type": "markdown",
   "metadata": {},
   "source": [
    "Loops are repeated steps. They have iteration variables that change each time through a loop. They go through a sequence."
   ]
  },
  {
   "cell_type": "markdown",
   "metadata": {},
   "source": [
    "#There are two types of loops: definite and indefinite\n",
    "#n is the counter variable, 'While' is the conditions"
   ]
  },
  {
   "cell_type": "code",
   "execution_count": 1,
   "metadata": {},
   "outputs": [
    {
     "name": "stdout",
     "output_type": "stream",
     "text": [
      "5\n",
      "4\n",
      "3\n",
      "2\n",
      "1\n",
      "Done\n"
     ]
    }
   ],
   "source": [
    "n = 5\n",
    "\n",
    "while n>0:\n",
    "    print(n)\n",
    "    n = n-1\n",
    "print(\"Done\")"
   ]
  },
  {
   "cell_type": "markdown",
   "metadata": {},
   "source": [
    "## Infinite Loop"
   ]
  },
  {
   "cell_type": "code",
   "execution_count": 13,
   "metadata": {},
   "outputs": [
    {
     "name": "stdout",
     "output_type": "stream",
     "text": [
      "Lather\n",
      "Rinse\n",
      "Lather\n",
      "Rinse\n",
      "Lather\n",
      "Rinse\n",
      "Lather\n",
      "Rinse\n",
      "Lather\n",
      "Rinse\n",
      "Dry off!\n"
     ]
    }
   ],
   "source": [
    "n = 5\n",
    "\n",
    "while n>0:\n",
    "    print(\"Lather\")\n",
    "    print(\"Rinse\")\n",
    "    n=n-1 #Removing this would make the loop infinite\n",
    "print(\"Dry off!\")"
   ]
  },
  {
   "cell_type": "markdown",
   "metadata": {},
   "source": [
    "## Breaking out of a loop"
   ]
  },
  {
   "cell_type": "code",
   "execution_count": 4,
   "metadata": {},
   "outputs": [
    {
     "name": "stdout",
     "output_type": "stream",
     "text": [
      "> done\n",
      "Blastoff\n"
     ]
    }
   ],
   "source": [
    "while True:\n",
    "    line = input(\"> \")\n",
    "    if line == \"done\":\n",
    "        break\n",
    "    print(line)\n",
    "print(\"Blastoff\")"
   ]
  },
  {
   "cell_type": "code",
   "execution_count": 6,
   "metadata": {},
   "outputs": [
    {
     "name": "stdout",
     "output_type": "stream",
     "text": [
      "5\n",
      "4\n",
      "3\n",
      "2\n",
      "1\n",
      "Done\n"
     ]
    }
   ],
   "source": [
    "n = 5\n",
    "while True:\n",
    "    print(n)\n",
    "    n = n - 1 \n",
    "    if n <= 0:\n",
    "        break\n",
    "print(\"Done\")"
   ]
  },
  {
   "cell_type": "markdown",
   "metadata": {},
   "source": [
    "## Finishing an iteration with continue"
   ]
  },
  {
   "cell_type": "markdown",
   "metadata": {},
   "source": [
    "\"Continue\" jumps to the next iteration at the top of the loop"
   ]
  },
  {
   "cell_type": "code",
   "execution_count": null,
   "metadata": {},
   "outputs": [],
   "source": [
    "while True:\n",
    "    line = input(\"> \")\n",
    "\n",
    "    if line[0] == \"#\":\n",
    "        continue\n",
    "    if line == \"done\":\n",
    "        break\n",
    "    print(line)\n",
    "print(\"Done!\")"
   ]
  },
  {
   "cell_type": "markdown",
   "metadata": {},
   "source": [
    "# Definite Loops"
   ]
  },
  {
   "cell_type": "code",
   "execution_count": 1,
   "metadata": {},
   "outputs": [
    {
     "name": "stdout",
     "output_type": "stream",
     "text": [
      "5\n",
      "4\n",
      "3\n",
      "2\n",
      "1\n",
      "Blastoff\n"
     ]
    }
   ],
   "source": [
    "for i in [5,4,3,2,1]:\n",
    "    print(i)\n",
    "print(\"Blastoff\")"
   ]
  },
  {
   "cell_type": "code",
   "execution_count": 4,
   "metadata": {
    "collapsed": true
   },
   "outputs": [
    {
     "name": "stdout",
     "output_type": "stream",
     "text": [
      "1\n",
      "2\n",
      "3\n",
      "4\n",
      "5\n",
      "6\n",
      "7\n",
      "8\n",
      "9\n",
      "10\n",
      "11\n",
      "12\n",
      "13\n",
      "14\n",
      "15\n",
      "16\n",
      "17\n",
      "18\n",
      "19\n",
      "20\n",
      "21\n",
      "22\n",
      "23\n",
      "24\n",
      "25\n",
      "26\n",
      "27\n",
      "28\n",
      "29\n",
      "30\n",
      "31\n",
      "32\n",
      "33\n",
      "34\n",
      "35\n",
      "36\n",
      "37\n",
      "38\n",
      "39\n",
      "40\n",
      "41\n",
      "42\n",
      "43\n",
      "44\n",
      "45\n",
      "46\n",
      "47\n",
      "48\n",
      "49\n",
      "50\n",
      "51\n",
      "52\n",
      "53\n",
      "54\n",
      "55\n",
      "56\n",
      "57\n",
      "58\n",
      "59\n",
      "60\n",
      "61\n",
      "62\n",
      "63\n",
      "64\n",
      "65\n",
      "66\n",
      "67\n",
      "68\n",
      "69\n",
      "70\n",
      "71\n",
      "72\n",
      "73\n",
      "74\n",
      "75\n",
      "76\n",
      "77\n",
      "78\n",
      "79\n",
      "80\n",
      "81\n",
      "82\n",
      "83\n",
      "84\n",
      "85\n",
      "86\n",
      "87\n",
      "88\n",
      "89\n",
      "90\n",
      "91\n",
      "92\n",
      "93\n",
      "94\n",
      "95\n",
      "96\n",
      "97\n",
      "98\n",
      "99\n",
      "100\n",
      "Blastoff\n"
     ]
    }
   ],
   "source": [
    "for number in range(1,101):\n",
    "    print(number)\n",
    "print(\"Blastoff\")"
   ]
  },
  {
   "cell_type": "code",
   "execution_count": 10,
   "metadata": {},
   "outputs": [
    {
     "name": "stdout",
     "output_type": "stream",
     "text": [
      "Hi  Storm\n",
      "Hi  John\n",
      "Hi  Mate\n",
      "Hi  Lamela\n",
      "Hi  Kane\n",
      "Hi  Leroy\n",
      "Hi  Jenkins\n",
      "Hi  Jan\n"
     ]
    }
   ],
   "source": [
    "friends = (\"Storm\",\"John\",\"Mate\",\"Lamela\",\"Kane\",\"Leroy\",\"Jenkins\",\"Jan\")\n",
    "for friend in friends:\n",
    "       print(\"Hi \",friend)"
   ]
  },
  {
   "cell_type": "markdown",
   "metadata": {},
   "source": [
    "#### Printing the Greatest Number"
   ]
  },
  {
   "cell_type": "code",
   "execution_count": 38,
   "metadata": {},
   "outputs": [
    {
     "name": "stdout",
     "output_type": "stream",
     "text": [
      "74 is the greatest number\n"
     ]
    }
   ],
   "source": [
    "numbers = (3,41,12,9,74,15)\n",
    "greatest_now = -1\n",
    "for greatest in numbers:\n",
    "    if greatest > greatest_now:\n",
    "        greatest_now = greatest\n",
    "print(greatest_now,\"is the greatest number\")"
   ]
  },
  {
   "cell_type": "markdown",
   "metadata": {},
   "source": [
    "#### Printing the Greatest Number"
   ]
  },
  {
   "cell_type": "code",
   "execution_count": 40,
   "metadata": {},
   "outputs": [
    {
     "name": "stdout",
     "output_type": "stream",
     "text": [
      "The sum is 154\n"
     ]
    }
   ],
   "source": [
    "add = 0\n",
    "for smallest in [3,41,12,9,74,15]:\n",
    "    add = smallest + add\n",
    "print(\"The sum is\", add)"
   ]
  },
  {
   "cell_type": "code",
   "execution_count": 43,
   "metadata": {},
   "outputs": [
    {
     "name": "stdout",
     "output_type": "stream",
     "text": [
      "25.666666666666668\n",
      "The sum is 154  and the average is  25.666666666666668\n"
     ]
    }
   ],
   "source": [
    "add = 0\n",
    "total = 1\n",
    "\n",
    "for smallest in [3,41,12,9,74,15]:\n",
    "    add = smallest + add\n",
    "    average = add/total\n",
    "    total = total+1\n",
    "print(\"The sum is\", add,\" and the average is \",average)"
   ]
  }
 ],
 "metadata": {
  "kernelspec": {
   "display_name": "Python 3",
   "language": "python",
   "name": "python3"
  },
  "language_info": {
   "codemirror_mode": {
    "name": "ipython",
    "version": 3
   },
   "file_extension": ".py",
   "mimetype": "text/x-python",
   "name": "python",
   "nbconvert_exporter": "python",
   "pygments_lexer": "ipython3",
   "version": "3.7.3"
  }
 },
 "nbformat": 4,
 "nbformat_minor": 2
}
