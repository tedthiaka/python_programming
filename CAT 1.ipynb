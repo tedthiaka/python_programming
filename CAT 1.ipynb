{
 "cells": [
  {
   "cell_type": "markdown",
   "metadata": {},
   "source": [
    "### Name : STORM GACHOKI"
   ]
  },
  {
   "cell_type": "code",
   "execution_count": null,
   "metadata": {},
   "outputs": [],
   "source": []
  },
  {
   "cell_type": "markdown",
   "metadata": {},
   "source": [
    "### Question 1"
   ]
  },
  {
   "cell_type": "markdown",
   "metadata": {},
   "source": [
    "Write a Python program that prompts the user for two numbers, reads them in, and prints out the product"
   ]
  },
  {
   "cell_type": "code",
   "execution_count": 1,
   "metadata": {},
   "outputs": [
    {
     "name": "stdout",
     "output_type": "stream",
     "text": [
      "Enter your first number:\n",
      "5\n",
      "Enter your second number:\n",
      "2\n",
      "The product of the two numbers is:  10.0\n"
     ]
    }
   ],
   "source": [
    "Number_1 = float(input(\"Enter your first number:\\n\"))\n",
    "Number_2 = float(input(\"Enter your second number:\\n\"))\n",
    "print(\"The product of the two numbers is: \",Number_1*Number_2)"
   ]
  },
  {
   "cell_type": "markdown",
   "metadata": {},
   "source": [
    "### Question 2"
   ]
  },
  {
   "cell_type": "markdown",
   "metadata": {},
   "source": [
    "Given a string s, write a short expression for a string that includes s repeated five times"
   ]
  },
  {
   "cell_type": "code",
   "execution_count": 2,
   "metadata": {},
   "outputs": [
    {
     "name": "stdout",
     "output_type": "stream",
     "text": [
      "Enter your string 's':\n",
      "rit\n",
      "ritritritritrit\n"
     ]
    }
   ],
   "source": [
    "s = str(input(\"Enter your string 's':\\n\"))\n",
    "Times_5 = s*5\n",
    "print(Times_5)"
   ]
  },
  {
   "cell_type": "markdown",
   "metadata": {},
   "source": [
    "### Question 3"
   ]
  },
  {
   "cell_type": "markdown",
   "metadata": {},
   "source": [
    "Write a Python code to concatenate following dictionaries to create a new one.\n",
    "\n",
    "dic1={1:10, 2:20}\n",
    "\n",
    "dic2={3:30, 4:40}\n",
    "\n",
    "dic3={5:50,6:60}\n",
    "\n",
    "Expected Result : {1: 10, 2: 20, 3: 30, 4: 40, 5: 50, 6: 60}"
   ]
  },
  {
   "cell_type": "code",
   "execution_count": 3,
   "metadata": {},
   "outputs": [
    {
     "name": "stdout",
     "output_type": "stream",
     "text": [
      "{1: 10, 2: 20, 3: 30, 4: 40, 5: 50, 6: 60}\n"
     ]
    }
   ],
   "source": [
    "dic1={1:10, 2:20}\n",
    "\n",
    "dic2={3:30, 4:40}\n",
    "\n",
    "dic3={5:50,6:60}\n",
    "dic_result = {}\n",
    "dic_result.update(dic1)\n",
    "dic_result.update(dic2)\n",
    "dic_result.update(dic3)\n",
    "print(dic_result)"
   ]
  },
  {
   "cell_type": "markdown",
   "metadata": {},
   "source": [
    "### Question 4"
   ]
  },
  {
   "cell_type": "markdown",
   "metadata": {},
   "source": [
    "Write a Python code to combine values in python list of dictionaries.\n",
    "\n",
    "Sample data: [{'item': 'item1', 'amount': 400}, {'item': 'item2', 'amount': 300}, {'item': 'item1', 'amount': 750}]\n",
    "\n",
    "Expected Output: Counter({'item1': 1150, 'item2': 300})"
   ]
  },
  {
   "cell_type": "markdown",
   "metadata": {},
   "source": []
  },
  {
   "cell_type": "code",
   "execution_count": 42,
   "metadata": {},
   "outputs": [
    {
     "name": "stdout",
     "output_type": "stream",
     "text": [
      "{'item1': 1150, 'item2': 300}\n"
     ]
    }
   ],
   "source": [
    "Item_list = [{'item': 'item1', 'amount': 400}, {'item': 'item2', 'amount': 300}, {'item': 'item1', 'amount': 750}]\n",
    "Item_output = {}\n",
    "for a in Item_list:\n",
    "    for b in a.values():\n",
    "        c = str(b)\n",
    "        if c.startswith(\"item\"):\n",
    "            Item_output[b] = Item_output.get(c,0) + a[\"amount\"]\n",
    "print(Item_output)"
   ]
  },
  {
   "cell_type": "markdown",
   "metadata": {},
   "source": [
    "### Question 5"
   ]
  },
  {
   "cell_type": "markdown",
   "metadata": {},
   "source": [
    "Write a Python function to check whether a number is divisible by another number.\n",
    "\n",
    "Accept two integers values form the user."
   ]
  },
  {
   "cell_type": "code",
   "execution_count": 6,
   "metadata": {},
   "outputs": [
    {
     "name": "stdout",
     "output_type": "stream",
     "text": [
      "Enter your first number:\n",
      "4\n",
      "Enter your second number:\n",
      "32\n",
      "32  is divisible by 4\n"
     ]
    }
   ],
   "source": [
    "def divisible(a,b):\n",
    "    if a%b == 0:\n",
    "        print(a,\" is divisible by \",b)\n",
    "    elif b%a == 0:\n",
    "        print(b,\" is divisible by\",a)\n",
    "    else:\n",
    "        print(\"The two numbers are not divisible\")\n",
    "a = int(input(\"Enter your first number:\\n\"))\n",
    "b = int(input(\"Enter your second number:\\n\"))\n",
    "divisible(a,b)"
   ]
  },
  {
   "cell_type": "markdown",
   "metadata": {},
   "source": [
    "### Question 6"
   ]
  },
  {
   "cell_type": "markdown",
   "metadata": {},
   "source": [
    "Write a Python program to count the number of characters (character frequency) in a string. \n",
    "\n",
    "Sample String : google.com'\n",
    "\n",
    "Expected Result : {'o': 3, 'g': 2, '.': 1, 'e': 1, 'l': 1, 'm': 1, 'c': 1}"
   ]
  },
  {
   "cell_type": "markdown",
   "metadata": {},
   "source": []
  },
  {
   "cell_type": "code",
   "execution_count": 25,
   "metadata": {},
   "outputs": [
    {
     "name": "stdout",
     "output_type": "stream",
     "text": [
      "{'g': 2, 'o': 3, 'l': 1, 'e': 1, '.': 1, 'c': 1, 'm': 1}\n"
     ]
    }
   ],
   "source": [
    "sample = 'google.com'\n",
    "result_count = {}\n",
    "def order(x):\n",
    "    return x[1]\n",
    "for a in sample:\n",
    "    result_count[a] = result_count.get(a,0) + 1\n",
    "print(result_count)"
   ]
  },
  {
   "cell_type": "markdown",
   "metadata": {},
   "source": [
    "### Question 7"
   ]
  },
  {
   "cell_type": "markdown",
   "metadata": {},
   "source": [
    "Write a Python function that takes a list of words and returns the length of the longest one"
   ]
  },
  {
   "cell_type": "code",
   "execution_count": 8,
   "metadata": {},
   "outputs": [
    {
     "name": "stdout",
     "output_type": "stream",
     "text": [
      "Enter the list, seperate with a comma:\n",
      "ert,yytrr,rewrewr\n",
      "['ert', 'yytrr', 'rewrewr']\n",
      "rewrewr  is the longest one.\n"
     ]
    }
   ],
   "source": [
    "words = str(input(\"Enter the list, seperate with a comma:\\n\"))\n",
    "lis1 = words.split(\",\")\n",
    "print(lis1)\n",
    "longer = \"\"\n",
    "for a in lis1:\n",
    "    if len(a)>len(longer) and len(a)!= len(longer):\n",
    "        longer = a        \n",
    "print(longer,\" is the longest one.\")"
   ]
  },
  {
   "cell_type": "markdown",
   "metadata": {},
   "source": [
    "### Question 8"
   ]
  },
  {
   "cell_type": "markdown",
   "metadata": {},
   "source": [
    "Write a Python function that takes a string as an argument then returns a reverse of the string.\n",
    "\n",
    "Sample String : myReverse(\"1234abcd\")\n",
    "Expected Output : \"dcba4321\""
   ]
  },
  {
   "cell_type": "code",
   "execution_count": 9,
   "metadata": {},
   "outputs": [
    {
     "name": "stdout",
     "output_type": "stream",
     "text": [
      "Enter your string:\n",
      "1234abcd\n",
      "dcba4321\n"
     ]
    }
   ],
   "source": [
    "word1 = str(input(\"Enter your string:\\n\"))\n",
    "print(word1[len(word1)::-1])"
   ]
  },
  {
   "cell_type": "markdown",
   "metadata": {},
   "source": [
    "### Question 9"
   ]
  },
  {
   "cell_type": "markdown",
   "metadata": {},
   "source": [
    "You have a list of words\n",
    "['apple', 'book', 'melon', 'applewatch', 'man', 'notebook', 'watch', 'water', 'super', 'watermelon', 'notebook', 'superman']\n",
    "\n",
    "Given this list\n",
    "['book', 'apple', 'notebook', 'note', 'applewatch', 'melon', 'watermelon']\n",
    "\n",
    "Print out all compound words in the list, the expected output should be something like this:\n",
    "['notebook', 'applewatch', 'watermelon']\n"
   ]
  },
  {
   "cell_type": "code",
   "execution_count": 44,
   "metadata": {},
   "outputs": [
    {
     "name": "stdout",
     "output_type": "stream",
     "text": [
      "['notebook', 'applewatch', 'watermelon']\n"
     ]
    }
   ],
   "source": [
    "lis2 = ['apple', 'book', 'melon', 'applewatch', 'man', 'notebook', 'watch', 'water', 'super', 'watermelon', 'notebook', 'superman']\n",
    "lis3 = ['book', 'apple', 'notebook', 'note', 'applewatch', 'melon', 'watermelon']\n",
    "lis4 = ['apple', 'book', 'melon', 'man','watch', 'water', 'super','note']\n",
    "lis5 = list()\n",
    "b = \"\"\n",
    "for a in lis3:\n",
    "    if a not in lis4 and len(a) > 5:\n",
    "        lis5.append(a)\n",
    "print(lis5)"
   ]
  },
  {
   "cell_type": "markdown",
   "metadata": {},
   "source": [
    "### Question 10"
   ]
  },
  {
   "cell_type": "markdown",
   "metadata": {},
   "source": [
    "Write a Python program to convert a list of multiple integers into a single integer.\n",
    "\n",
    "Sample list: [11, 33, 50]\n",
    "    \n",
    "Expected Output: 113350"
   ]
  },
  {
   "cell_type": "code",
   "execution_count": 11,
   "metadata": {},
   "outputs": [
    {
     "name": "stdout",
     "output_type": "stream",
     "text": [
      "113350\n"
     ]
    }
   ],
   "source": [
    "list_int = [11, 33, 50]\n",
    "joinlist = \"\"\n",
    "for a in list_int:\n",
    "    joinlist = joinlist + str(a)\n",
    "print(int(joinlist))"
   ]
  },
  {
   "cell_type": "markdown",
   "metadata": {},
   "source": [
    "### Question 11"
   ]
  },
  {
   "cell_type": "markdown",
   "metadata": {},
   "source": [
    "Given a string 'P a n a g s n j g d A M D', convert all the letter to uppercase the make a list of the characters. \n",
    "\n",
    "Output = ['P', 'A', 'N', 'A', 'G', 'S', 'N', 'J', 'G', 'D', 'A', 'M', 'D']"
   ]
  },
  {
   "cell_type": "code",
   "execution_count": 12,
   "metadata": {},
   "outputs": [
    {
     "name": "stdout",
     "output_type": "stream",
     "text": [
      "['P', 'A', 'N', 'A', 'G', 'S', 'N', 'J', 'G', 'D', 'A', 'M', 'D']\n"
     ]
    }
   ],
   "source": [
    "string1 = 'P a n a g s n j g d A M D'\n",
    "lis5 = string1.split()\n",
    "for a in range(len(lis5)):\n",
    "    lis5[a] = lis5[a].upper()\n",
    "print(lis5)"
   ]
  },
  {
   "cell_type": "markdown",
   "metadata": {},
   "source": [
    "### Question 12"
   ]
  },
  {
   "cell_type": "markdown",
   "metadata": {},
   "source": [
    "Write a Python function that checks whether a passed string is palindrome or not. \n",
    "Note: A palindrome is a word, phrase, or sequence that reads the same backward as forward, e.g., madam or nurses run."
   ]
  },
  {
   "cell_type": "code",
   "execution_count": 13,
   "metadata": {},
   "outputs": [
    {
     "name": "stdout",
     "output_type": "stream",
     "text": [
      "Enter your word:\n",
      "madam\n",
      "' madam '  is a palindrome. It is the same backwards and forwards!\n"
     ]
    }
   ],
   "source": [
    "string2 = input(\"Enter your word:\\n\")\n",
    "string_test = string2.replace(\" \",\"\")\n",
    "if string_test == string_test[::-1]:\n",
    "    print(\"'\",string2,\"'\",\" is a palindrome. It is the same backwards and forwards!\")\n",
    "else:\n",
    "    print(\"That word is not a palindrome.\")"
   ]
  }
 ],
 "metadata": {
  "kernelspec": {
   "display_name": "Python 3",
   "language": "python",
   "name": "python3"
  },
  "language_info": {
   "codemirror_mode": {
    "name": "ipython",
    "version": 3
   },
   "file_extension": ".py",
   "mimetype": "text/x-python",
   "name": "python",
   "nbconvert_exporter": "python",
   "pygments_lexer": "ipython3",
   "version": "3.7.3"
  }
 },
 "nbformat": 4,
 "nbformat_minor": 2
}
