{
 "cells": [
  {
   "cell_type": "code",
   "execution_count": 3,
   "metadata": {},
   "outputs": [
    {
     "name": "stdout",
     "output_type": "stream",
     "text": [
      "it exists\n"
     ]
    }
   ],
   "source": [
    "for number in [3,41,12,9,74,15,22]:\n",
    "    if number == 22:\n",
    "        exist = \"It exists\"\n",
    "        break\n",
    "    else:\n",
    "        exist = \"It doesn't exist\"\n",
    "print(exist)"
   ]
  },
  {
   "cell_type": "code",
   "execution_count": 8,
   "metadata": {},
   "outputs": [
    {
     "name": "stdout",
     "output_type": "stream",
     "text": [
      "The number 22 occurs, 3 times\n"
     ]
    }
   ],
   "source": [
    "count = 0\n",
    "\n",
    "for number in [3,41,22,12,9,74,15,22,22]:\n",
    "    if number == 22:\n",
    "        count = count + 1\n",
    "    continue\n",
    "print(\"The number 22 occurs,\",count,\"times\")"
   ]
  },
  {
   "cell_type": "code",
   "execution_count": null,
   "metadata": {},
   "outputs": [],
   "source": []
  }
 ],
 "metadata": {
  "kernelspec": {
   "display_name": "Python 3",
   "language": "python",
   "name": "python3"
  },
  "language_info": {
   "codemirror_mode": {
    "name": "ipython",
    "version": 3
   },
   "file_extension": ".py",
   "mimetype": "text/x-python",
   "name": "python",
   "nbconvert_exporter": "python",
   "pygments_lexer": "ipython3",
   "version": "3.7.3"
  }
 },
 "nbformat": 4,
 "nbformat_minor": 2
}
