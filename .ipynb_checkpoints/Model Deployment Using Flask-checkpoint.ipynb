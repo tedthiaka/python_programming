{
 "cells": [
  {
   "cell_type": "markdown",
   "metadata": {},
   "source": [
    "# Deploying a Model Using an API"
   ]
  },
  {
   "cell_type": "code",
   "execution_count": 1,
   "metadata": {},
   "outputs": [
    {
     "name": "stdout",
     "output_type": "stream",
     "text": [
      " * Serving Flask app \"__main__\" (lazy loading)\n",
      " * Environment: production\n",
      "   WARNING: Do not use the development server in a production environment.\n",
      "   Use a production WSGI server instead.\n",
      " * Debug mode: off\n"
     ]
    },
    {
     "name": "stderr",
     "output_type": "stream",
     "text": [
      " * Running on http://127.0.0.1:7000/ (Press CTRL+C to quit)\n"
     ]
    }
   ],
   "source": [
    "# Jungle and flask\n",
    "\n",
    "from flask import Flask\n",
    "\n",
    "app = Flask(__name__)\n",
    "\n",
    "@app.route('/hello_world', methods=['GET','POST'])\n",
    "\n",
    "def hello_world():\n",
    "    return \"Hello World!\"\n",
    "\n",
    "if __name__=='__main__':\n",
    "    app.run(port=7000)"
   ]
  },
  {
   "cell_type": "code",
   "execution_count": 2,
   "metadata": {},
   "outputs": [
    {
     "name": "stdout",
     "output_type": "stream",
     "text": [
      " * Serving Flask app \"__main__\" (lazy loading)\n",
      " * Environment: production\n",
      "   WARNING: Do not use the development server in a production environment.\n",
      "   Use a production WSGI server instead.\n",
      " * Debug mode: off\n"
     ]
    },
    {
     "name": "stderr",
     "output_type": "stream",
     "text": [
      " * Running on http://127.0.0.1:7001/ (Press CTRL+C to quit)\n"
     ]
    }
   ],
   "source": [
    "from flask import request\n",
    "\n",
    "app = Flask(__name__)\n",
    "\n",
    "@app.route('/add', methods=['POST'])\n",
    "def add():\n",
    "    a = request.form['a']\n",
    "    b = request.form['b']\n",
    "    c = request.form['c']\n",
    "    return str(int(a)+int(b)+int(c))\n",
    "if __name__=='__main__':\n",
    "    app.run(port=7001)"
   ]
  },
  {
   "cell_type": "code",
   "execution_count": 3,
   "metadata": {},
   "outputs": [
    {
     "name": "stdout",
     "output_type": "stream",
     "text": [
      "0.9733333333333334\n"
     ]
    }
   ],
   "source": [
    "#Importing Random Forest Classifier\n",
    "from sklearn.ensemble import RandomForestClassifier\n",
    "from sklearn.datasets import load_iris\n",
    "from sklearn.model_selection import train_test_split\n",
    "from sklearn.metrics import accuracy_score\n",
    "import pandas as pd\n",
    "\n",
    "#loading the data set\n",
    "iris = load_iris()\n",
    "X = iris.data\n",
    "y = iris.target\n",
    "\n",
    "#Split the data\n",
    "X_train, X_test, y_train, y_test = train_test_split(X,y, random_state=42,test_size=0.5)\n",
    "\n",
    "#Build the model\n",
    "clf = RandomForestClassifier(n_estimators=10)\n",
    "\n",
    "#Train the classifier\n",
    "clf.fit(X_train, y_train)\n",
    "\n",
    "#Predictions\n",
    "predicted = clf.predict(X_test)\n",
    "\n",
    "#Check accuracy\n",
    "print(accuracy_score(predicted, y_test))"
   ]
  },
  {
   "cell_type": "code",
   "execution_count": 4,
   "metadata": {},
   "outputs": [
    {
     "name": "stdout",
     "output_type": "stream",
     "text": [
      "Pickle file exported...\n"
     ]
    }
   ],
   "source": [
    "import pickle\n",
    "with open('random_forest.pkl', 'wb') as model_pkl:\n",
    "    pickle.dump(clf, model_pkl, protocol=2)\n",
    "    print(\"Pickle file exported...\")"
   ]
  },
  {
   "cell_type": "markdown",
   "metadata": {},
   "source": [
    "Exposing the model as a flask"
   ]
  },
  {
   "cell_type": "code",
   "execution_count": null,
   "metadata": {},
   "outputs": [],
   "source": [
    "import pickle\n",
    "from flask import Flask,request\n",
    "import numpy as np\n",
    "import pandas as pd\n",
    "with open('random_forest.pkl','rb') as model_file:\n",
    "    model = pickle.load(model_file)\n",
    "\n",
    "app = Flask(__name__)\n",
    "\n",
    "@app.route('/predict',methods=['POST'])\n",
    "def predict_iris():\n",
    "    \"\"\"\n",
    "    Example endpoint returning a prediction of iris\n",
    "    \n",
    "    \"\"\"\n",
    "    s_length = request.form['s_length']\n",
    "    s_width = request.form['s_width']\n",
    "    p_length = request.form['p_length']\n",
    "    p_width = request.form['p_width']\n",
    "    \n",
    "    prediction = model.predict(np.array([[s_length,s_width,p_length,p_width]]))\n",
    "    if prediction == [0]:\n",
    "        return 'Iris Setosa'\n",
    "    if prediction == [1]:\n",
    "        return 'Iris Versicolor'\n",
    "    else:\n",
    "        return 'Iris Virginica'\n",
    "    \n",
    "\n",
    "if __name__=='__main__':\n",
    "    app.run(host='0.0.0.0', port=5000)"
   ]
  },
  {
   "cell_type": "code",
   "execution_count": null,
   "metadata": {},
   "outputs": [],
   "source": []
  }
 ],
 "metadata": {
  "kernelspec": {
   "display_name": "Python 3",
   "language": "python",
   "name": "python3"
  },
  "language_info": {
   "codemirror_mode": {
    "name": "ipython",
    "version": 3
   },
   "file_extension": ".py",
   "mimetype": "text/x-python",
   "name": "python",
   "nbconvert_exporter": "python",
   "pygments_lexer": "ipython3",
   "version": "3.7.3"
  }
 },
 "nbformat": 4,
 "nbformat_minor": 2
}
