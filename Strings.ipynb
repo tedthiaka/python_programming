{
 "cells": [
  {
   "cell_type": "markdown",
   "metadata": {},
   "source": [
    "# String Data Type\n",
    "#Strings are a sequence of characters\n",
    "#Uses '' or \"\""
   ]
  },
  {
   "cell_type": "markdown",
   "metadata": {},
   "source": [
    "### Concatenation"
   ]
  },
  {
   "cell_type": "code",
   "execution_count": 1,
   "metadata": {
    "scrolled": true
   },
   "outputs": [
    {
     "name": "stdout",
     "output_type": "stream",
     "text": [
      "Hello Storm\n"
     ]
    }
   ],
   "source": [
    "a = \"Hello\"\n",
    "b = 'Storm'\n",
    "print(a+ \" \" +b)"
   ]
  },
  {
   "cell_type": "markdown",
   "metadata": {},
   "source": [
    "### String conversions"
   ]
  },
  {
   "cell_type": "code",
   "execution_count": 2,
   "metadata": {},
   "outputs": [
    {
     "name": "stdout",
     "output_type": "stream",
     "text": [
      "12345.0\n"
     ]
    }
   ],
   "source": [
    "c = \"12345\"\n",
    "d = float(c)\n",
    "print(d)"
   ]
  },
  {
   "cell_type": "markdown",
   "metadata": {},
   "source": [
    "### String character values"
   ]
  },
  {
   "cell_type": "code",
   "execution_count": 3,
   "metadata": {},
   "outputs": [
    {
     "name": "stdout",
     "output_type": "stream",
     "text": [
      "m\n"
     ]
    }
   ],
   "source": [
    "e = \"Storm\"\n",
    "f = e[4]\n",
    "print(f)"
   ]
  },
  {
   "cell_type": "code",
   "execution_count": 4,
   "metadata": {},
   "outputs": [
    {
     "name": "stdout",
     "output_type": "stream",
     "text": [
      "o\n"
     ]
    }
   ],
   "source": [
    "g = \"Storm\"\n",
    "h = g[-3]\n",
    "print(h)"
   ]
  },
  {
   "cell_type": "markdown",
   "metadata": {},
   "source": [
    "### String length"
   ]
  },
  {
   "cell_type": "code",
   "execution_count": 3,
   "metadata": {
    "collapsed": true
   },
   "outputs": [
    {
     "name": "stdout",
     "output_type": "stream",
     "text": [
      "b\n",
      "a\n",
      "n\n",
      "a\n",
      "n\n",
      "a\n"
     ]
    }
   ],
   "source": [
    "i =  \"banana\"\n",
    "for j in range(0,len(i)):\n",
    "    print(i[j])\n"
   ]
  },
  {
   "cell_type": "code",
   "execution_count": 6,
   "metadata": {
    "collapsed": true
   },
   "outputs": [
    {
     "name": "stdout",
     "output_type": "stream",
     "text": [
      "b\n",
      "a\n",
      "n\n",
      "a\n",
      "n\n",
      "a\n"
     ]
    }
   ],
   "source": [
    "k = 0\n",
    "counter = 0\n",
    "while counter < len(i):\n",
    "    print(i[k])\n",
    "    k=k+1\n",
    "    counter = counter + 1"
   ]
  },
  {
   "cell_type": "code",
   "execution_count": 7,
   "metadata": {},
   "outputs": [
    {
     "name": "stdout",
     "output_type": "stream",
     "text": [
      "3\n"
     ]
    }
   ],
   "source": [
    "count = 0\n",
    "for l in range(0,len(i)):\n",
    "    m = i[l]\n",
    "    if m == \"a\":\n",
    "        count = count + 1\n",
    "print(count)"
   ]
  },
  {
   "cell_type": "markdown",
   "metadata": {},
   "source": [
    "### Slicing"
   ]
  },
  {
   "cell_type": "code",
   "execution_count": 8,
   "metadata": {
    "collapsed": true
   },
   "outputs": [
    {
     "name": "stdout",
     "output_type": "stream",
     "text": [
      "bnnMnyyhn\n",
      "aaaotPto\n",
      "nohtyPytnoMananab\n",
      "Monty\n",
      "nohtyP\n"
     ]
    }
   ],
   "source": [
    "n = \"bananaMontyPython\"\n",
    "\n",
    "#Even position\n",
    "print(n[0::2])\n",
    "#odd position\n",
    "print(n[1::2])\n",
    "#print in reverse\n",
    "print(n[::-1])\n",
    "#print Monty\n",
    "print(n[6:11])\n",
    "#print python only in reverse\n",
    "print(n[17:10:-1])"
   ]
  },
  {
   "cell_type": "markdown",
   "metadata": {},
   "source": [
    "### String comparison "
   ]
  },
  {
   "cell_type": "code",
   "execution_count": 9,
   "metadata": {
    "collapsed": true
   },
   "outputs": [
    {
     "name": "stdout",
     "output_type": "stream",
     "text": [
      "abc  is greater\n",
      "Then  aaa\n"
     ]
    }
   ],
   "source": [
    "str1 = \"abc\"\n",
    "str2 = \"aaa\"\n",
    "if str1 > str2:\n",
    "    print(str1,\" is greater\")\n",
    "    print(\"Then \",str2)\n",
    "else:\n",
    "    print(str2,\" is greater\")\n",
    "    print(\"Then \",str1)\n",
    "#Strings are primarily compared based on alphabetical order.\n",
    "#When alphabetical order is not applicable then lengths can be compared."
   ]
  },
  {
   "cell_type": "markdown",
   "metadata": {},
   "source": [
    "## String Functions"
   ]
  },
  {
   "cell_type": "markdown",
   "metadata": {},
   "source": [
    "### Changing the case of a string "
   ]
  },
  {
   "cell_type": "code",
   "execution_count": 9,
   "metadata": {},
   "outputs": [
    {
     "name": "stdout",
     "output_type": "stream",
     "text": [
      "HeLlO StOrM\n",
      "HELLO STORM\n",
      "hello storm\n"
     ]
    }
   ],
   "source": [
    "hello = \"HeLlO StOrM\"\n",
    "up = hello.upper()\n",
    "low = hello.lower()\n",
    "print(hello)\n",
    "print(up)\n",
    "print(low)"
   ]
  },
  {
   "cell_type": "markdown",
   "metadata": {},
   "source": [
    "### Capitalizing the first letter in a string"
   ]
  },
  {
   "cell_type": "markdown",
   "metadata": {},
   "source": [
    "#### .Capitalize() "
   ]
  },
  {
   "cell_type": "code",
   "execution_count": 11,
   "metadata": {},
   "outputs": [
    {
     "name": "stdout",
     "output_type": "stream",
     "text": [
      "Hello storm\n"
     ]
    }
   ],
   "source": [
    "print(low.capitalize())"
   ]
  },
  {
   "cell_type": "markdown",
   "metadata": {},
   "source": [
    "###  Finding the position of a character in a string"
   ]
  },
  {
   "cell_type": "markdown",
   "metadata": {},
   "source": [
    "#### .Find() "
   ]
  },
  {
   "cell_type": "code",
   "execution_count": 12,
   "metadata": {},
   "outputs": [
    {
     "name": "stdout",
     "output_type": "stream",
     "text": [
      "3\n",
      "-1\n"
     ]
    }
   ],
   "source": [
    "nam = 'Mary'\n",
    "pos = nam.find('y')\n",
    "print(pos)\n",
    "pos = nam.find('z')\n",
    "print(pos)\n",
    "#If a character is not found it returns\"-1\""
   ]
  },
  {
   "cell_type": "code",
   "execution_count": 13,
   "metadata": {
    "scrolled": true
   },
   "outputs": [
    {
     "name": "stdout",
     "output_type": "stream",
     "text": [
      "5\n"
     ]
    }
   ],
   "source": [
    "print(i.find('a',4))"
   ]
  },
  {
   "cell_type": "code",
   "execution_count": 1,
   "metadata": {
    "scrolled": true
   },
   "outputs": [
    {
     "name": "stdout",
     "output_type": "stream",
     "text": [
      "22 33\n",
      "yahoo.comm\n"
     ]
    }
   ],
   "source": [
    "str3 = \"From kwoshvickgmailcom@yahoo.comm 06/04/2019 19:04\"\n",
    "poz1 = str3.find(\"@\")\n",
    "poz2 = str3.find(\" \",poz1)\n",
    "\n",
    "print(poz1, poz2)\n",
    "print(str3[poz1+1:poz2])"
   ]
  },
  {
   "cell_type": "markdown",
   "metadata": {},
   "source": [
    "### Replacing strings with other strings "
   ]
  },
  {
   "cell_type": "markdown",
   "metadata": {},
   "source": [
    "#### .Replace(replace,with) "
   ]
  },
  {
   "cell_type": "code",
   "execution_count": 34,
   "metadata": {
    "collapsed": true
   },
   "outputs": [
    {
     "name": "stdout",
     "output_type": "stream",
     "text": [
      "To kwoshvickgmailcom@yahoo.comm 06/04/2019 19:04\n",
      "From kwoshvickgmailcom----yahoo.comm 06/04/2019 19:04\n",
      "From victorgmailcom@yahoo.comm 06/04/2019 19:04\n"
     ]
    }
   ],
   "source": [
    "print(str3.replace(\"From\",\"To\"))\n",
    "print(str3.replace(\"@\",\"----\"))\n",
    "print(str3.replace(\"kwoshvick\",\"victor\"))"
   ]
  },
  {
   "cell_type": "markdown",
   "metadata": {},
   "source": [
    "### Stripping whitespace after or before the string "
   ]
  },
  {
   "cell_type": "markdown",
   "metadata": {},
   "source": [
    "#### .Strip(), .lstrip(), .rstrip() "
   ]
  },
  {
   "cell_type": "code",
   "execution_count": 23,
   "metadata": {},
   "outputs": [
    {
     "name": "stdout",
     "output_type": "stream",
     "text": [
      " kwoshvick \n",
      "kwoshvick \n",
      " kwoshvick\n",
      "kwoshvick\n"
     ]
    }
   ],
   "source": [
    "str4 = \" kwoshvick \"\n",
    "print(str4)\n",
    "print(str4.lstrip())\n",
    "print(str4.rstrip())\n",
    "print(str4.strip())"
   ]
  },
  {
   "cell_type": "markdown",
   "metadata": {},
   "source": [
    "### Checking whether a string starts with a particular word/character "
   ]
  },
  {
   "cell_type": "markdown",
   "metadata": {},
   "source": [
    "#### .Startswith(a)"
   ]
  },
  {
   "cell_type": "code",
   "execution_count": 24,
   "metadata": {},
   "outputs": [
    {
     "name": "stdout",
     "output_type": "stream",
     "text": [
      "True\n"
     ]
    }
   ],
   "source": [
    "str5 = \"Kwosh vick@gmail\"\n",
    "print(str5.lower().startswith(\"kwosh\"))"
   ]
  }
 ],
 "metadata": {
  "kernelspec": {
   "display_name": "Python 3",
   "language": "python",
   "name": "python3"
  },
  "language_info": {
   "codemirror_mode": {
    "name": "ipython",
    "version": 3
   },
   "file_extension": ".py",
   "mimetype": "text/x-python",
   "name": "python",
   "nbconvert_exporter": "python",
   "pygments_lexer": "ipython3",
   "version": "3.7.3"
  }
 },
 "nbformat": 4,
 "nbformat_minor": 2
}
