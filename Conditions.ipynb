{
 "cells": [
  {
   "cell_type": "markdown",
   "metadata": {},
   "source": [
    "# Conditions"
   ]
  },
  {
   "cell_type": "markdown",
   "metadata": {},
   "source": [
    "## One-Way Decision"
   ]
  },
  {
   "cell_type": "code",
   "execution_count": 1,
   "metadata": {},
   "outputs": [
    {
     "name": "stdout",
     "output_type": "stream",
     "text": [
      "Greater than 67\n"
     ]
    }
   ],
   "source": [
    "score = 100\n",
    "\n",
    "if score < 70 :\n",
    "    print(\"Less than 70\")\n",
    "    \n",
    "if score > 67:\n",
    "    print(\"Greater than 67\")\n",
    "    \n",
    "if score == 67.000000000000001:\n",
    "    print(\"Equals to 67\")\n",
    "    \n",
    "if score != 100:\n",
    "    print(\"Not equal\")"
   ]
  },
  {
   "cell_type": "markdown",
   "metadata": {},
   "source": [
    "## Two-Way Decision"
   ]
  },
  {
   "cell_type": "code",
   "execution_count": 2,
   "metadata": {},
   "outputs": [
    {
     "name": "stdout",
     "output_type": "stream",
     "text": [
      "More than 5\n"
     ]
    }
   ],
   "source": [
    "x = 10\n",
    "\n",
    "if x < 5:\n",
    "    print(\"Less than 5\")\n",
    "else:\n",
    "    print(\"More than 5\")"
   ]
  },
  {
   "cell_type": "markdown",
   "metadata": {},
   "source": [
    "## Nested If/ Multiway decision"
   ]
  },
  {
   "cell_type": "code",
   "execution_count": 3,
   "metadata": {},
   "outputs": [
    {
     "name": "stdout",
     "output_type": "stream",
     "text": [
      "What is your score? 78\n",
      "Grade: A\n"
     ]
    }
   ],
   "source": [
    "try:\n",
    "    score = float(input(\"What is your score? \"))\n",
    "\n",
    "    if score > 100:\n",
    "        print(\"Enter a score equal to or less than 100\")\n",
    "    elif score < 0:\n",
    "        print(\"Enter a score equal to or more than 0\")\n",
    "    elif score < 40:\n",
    "        print(\"Grade: Fail\")\n",
    "    elif score < 50:\n",
    "        print(\"Grade: D\")\n",
    "    elif score < 60:\n",
    "        print(\"Grade: C\")\n",
    "    elif score < 70:\n",
    "        print(\"Grade: B\")\n",
    "    else:\n",
    "        print(\"Grade: A\")\n",
    "except:\n",
    "    print(\"Please enter numerical values ONLY\")"
   ]
  },
  {
   "cell_type": "code",
   "execution_count": 8,
   "metadata": {},
   "outputs": [
    {
     "name": "stdout",
     "output_type": "stream",
     "text": [
      "Enter your number 123456789012345\n",
      "Hundred's of Trillions\n"
     ]
    }
   ],
   "source": [
    "try:\n",
    "    num = int(input(\"Enter your number \"))\n",
    "    if num < 10:\n",
    "        print(\"One's\")\n",
    "    elif num < 100:\n",
    "            print(\"Ten's\")\n",
    "    elif num < 1000:\n",
    "            print(\"Hundreds\")\n",
    "    elif num < 10000:\n",
    "            print(\"Thousands\")\n",
    "    elif num < 100000:\n",
    "            print(\"Ten's of Thousands\")\n",
    "    elif num < 1000000:\n",
    "            print(\"Hundred's of Thousands\")\n",
    "    elif num < 10000000:\n",
    "            print(\"Millions\")\n",
    "    elif num < 100000000:\n",
    "            print(\"Ten's of Millions\")\n",
    "    elif num < 1000000000:\n",
    "            print(\"Hundred's of Millions\")\n",
    "    elif num < 10000000000:\n",
    "            print(\"Billions\")\n",
    "    elif num < 100000000000:\n",
    "            print(\"Ten's of Billions\")\n",
    "    elif num < 1000000000000:\n",
    "            print(\"Hundred's of Billions\")  \n",
    "    elif num < 10000000000000:\n",
    "            print(\"Trillions\")\n",
    "    elif num < 100000000000000:\n",
    "            print(\"Ten's of Trillions\")\n",
    "    elif num < 1000000000000000:\n",
    "            print(\"Hundred's of Trillions\")\n",
    "    else:\n",
    "        print(\"That number is above trillions. It's too big, no thanks\")\n",
    "except:\n",
    "    print(\"Enter a number please\")"
   ]
  },
  {
   "cell_type": "code",
   "execution_count": null,
   "metadata": {},
   "outputs": [],
   "source": []
  }
 ],
 "metadata": {
  "kernelspec": {
   "display_name": "Python 3",
   "language": "python",
   "name": "python3"
  },
  "language_info": {
   "codemirror_mode": {
    "name": "ipython",
    "version": 3
   },
   "file_extension": ".py",
   "mimetype": "text/x-python",
   "name": "python",
   "nbconvert_exporter": "python",
   "pygments_lexer": "ipython3",
   "version": "3.7.3"
  }
 },
 "nbformat": 4,
 "nbformat_minor": 2
}
