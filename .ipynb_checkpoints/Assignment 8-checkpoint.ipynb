{
 "cells": [
  {
   "cell_type": "code",
   "execution_count": 2,
   "metadata": {},
   "outputs": [
    {
     "name": "stdout",
     "output_type": "stream",
     "text": [
      "10 most frequent emails:\n",
      "(('source@collab.sakaiproject.org', 1644), ('zqian@umich.edu', 165), ('mmmay@indiana.edu', 161), ('cwen@iupui.edu', 157), ('chmaurer@iupui.edu', 107), ('jimeng@umich.edu', 93), ('aaronz@vt.edu', 82), ('rjlowe@iupui.edu', 79), ('ian@caret.cam.ac.uk', 79), ('dlhaines@umich.edu', 72))\n",
      "46 Individual emails 3288 emails in total\n"
     ]
    }
   ],
   "source": [
    "fhandle = open(\"mbox.txt\",'r')\n",
    "count = 0\n",
    "occur = dict()\n",
    "def order(x):\n",
    "    return x[1]\n",
    "for a in fhandle:\n",
    "    if a.startswith(\"From:\") or a.startswith(\"To:\"):\n",
    "        count = count + 1\n",
    "        b = a.split()\n",
    "        occur[b[1]] = occur.get(b[1],0) + 1\n",
    "each_email = len(occur)\n",
    "c = sorted(occur.items(), key= order, reverse=True)\n",
    "\n",
    "print(\"10 most frequent emails:\")\n",
    "ten = tuple(c[0:10])\n",
    "print(ten)\n",
    "print(each_email,\"Individual emails\",count,\"emails in total\")"
   ]
  }
 ],
 "metadata": {
  "kernelspec": {
   "display_name": "Python 3",
   "language": "python",
   "name": "python3"
  },
  "language_info": {
   "codemirror_mode": {
    "name": "ipython",
    "version": 3
   },
   "file_extension": ".py",
   "mimetype": "text/x-python",
   "name": "python",
   "nbconvert_exporter": "python",
   "pygments_lexer": "ipython3",
   "version": "3.7.3"
  }
 },
 "nbformat": 4,
 "nbformat_minor": 2
}
