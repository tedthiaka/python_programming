{
 "cells": [
  {
   "cell_type": "markdown",
   "metadata": {},
   "source": [
    "A dictionary is like a bag containing objects that carry their own values"
   ]
  },
  {
   "cell_type": "markdown",
   "metadata": {},
   "source": [
    "### Using {} or dict() to declare a Dictionary"
   ]
  },
  {
   "cell_type": "code",
   "execution_count": 1,
   "metadata": {},
   "outputs": [],
   "source": [
    "dict_1 = dict()\n",
    "dict_2 = {}"
   ]
  },
  {
   "cell_type": "code",
   "execution_count": 3,
   "metadata": {},
   "outputs": [
    {
     "name": "stdout",
     "output_type": "stream",
     "text": [
      "{} {}\n"
     ]
    },
    {
     "data": {
      "text/plain": [
       "dict"
      ]
     },
     "execution_count": 3,
     "metadata": {},
     "output_type": "execute_result"
    }
   ],
   "source": [
    "print(dict_1,dict_2)\n",
    "type(dict_1)"
   ]
  },
  {
   "cell_type": "code",
   "execution_count": 4,
   "metadata": {},
   "outputs": [],
   "source": [
    "dict_1['money'] = 10\n",
    "dict_1['perfume'] = 2\n",
    "dict_1['sweets'] = 17\n",
    "dict_1['cards'] = 15\n",
    "dict_1['keys'] = 10\n",
    "dict_1['passport photo'] = 5\n",
    "dict_1['sweater'] = 4\n",
    "dict_1['pants'] = 2\n",
    "dict_1['socks'] = 6"
   ]
  },
  {
   "cell_type": "code",
   "execution_count": 8,
   "metadata": {},
   "outputs": [
    {
     "data": {
      "text/plain": [
       "{'money': 10,\n",
       " 'perfume': 2,\n",
       " 'sweets': 17,\n",
       " 'cards': 15,\n",
       " 'keys': 10,\n",
       " 'passport photo': 5,\n",
       " 'sweater': 4,\n",
       " 'pants': 2,\n",
       " 'socks': 6}"
      ]
     },
     "execution_count": 8,
     "metadata": {},
     "output_type": "execute_result"
    }
   ],
   "source": [
    "dict_1\n",
    "#Money,perfume,sweets...are the keys, while 10,2,17...respectively are the values"
   ]
  },
  {
   "cell_type": "markdown",
   "metadata": {},
   "source": [
    "#### Querying a dictionary"
   ]
  },
  {
   "cell_type": "code",
   "execution_count": 11,
   "metadata": {},
   "outputs": [
    {
     "data": {
      "text/plain": [
       "10"
      ]
     },
     "execution_count": 11,
     "metadata": {},
     "output_type": "execute_result"
    }
   ],
   "source": [
    "dict_1['money']\n"
   ]
  },
  {
   "cell_type": "code",
   "execution_count": 10,
   "metadata": {},
   "outputs": [
    {
     "data": {
      "text/plain": [
       "2"
      ]
     },
     "execution_count": 10,
     "metadata": {},
     "output_type": "execute_result"
    }
   ],
   "source": [
    "dict_1['pants']"
   ]
  },
  {
   "cell_type": "markdown",
   "metadata": {},
   "source": [
    "#### Deleting a key-value pair"
   ]
  },
  {
   "cell_type": "code",
   "execution_count": 15,
   "metadata": {},
   "outputs": [
    {
     "data": {
      "text/plain": [
       "{'perfume': 2,\n",
       " 'sweets': 17,\n",
       " 'cards': 15,\n",
       " 'keys': 10,\n",
       " 'passport photo': 5,\n",
       " 'sweater': 4,\n",
       " 'socks': 6}"
      ]
     },
     "execution_count": 15,
     "metadata": {},
     "output_type": "execute_result"
    }
   ],
   "source": [
    "del dict_1['pants']\n",
    "dict_1"
   ]
  },
  {
   "cell_type": "code",
   "execution_count": 16,
   "metadata": {},
   "outputs": [
    {
     "data": {
      "text/plain": [
       "{'perfume': 2,\n",
       " 'sweets': 17,\n",
       " 'cards': 15,\n",
       " 'keys': 10,\n",
       " 'passport photo': 5,\n",
       " 'sweater': 4,\n",
       " 'socks': 6,\n",
       " 'money': 50,\n",
       " 'pants': 5}"
      ]
     },
     "execution_count": 16,
     "metadata": {},
     "output_type": "execute_result"
    }
   ],
   "source": [
    "dict_1['money'] = 50\n",
    "dict_1['pants'] = 5\n",
    "dict_1"
   ]
  },
  {
   "cell_type": "code",
   "execution_count": 46,
   "metadata": {},
   "outputs": [
    {
     "name": "stdout",
     "output_type": "stream",
     "text": [
      "[3, 2, 5, 3]\n",
      "5 zhen\n"
     ]
    }
   ],
   "source": [
    "names = ('marquad','cwen','cwen','zhen','marquad','zhen','csev','zhen','csev','zhen','csev','marquad','zhen')\n",
    "c = ('marquad','cwen','zhen','csev')\n",
    "b = list()\n",
    "for a in c:\n",
    "    b.append(names.count(a))\n",
    "print(b)\n",
    "print(max(b),c[b.index(max(b))])"
   ]
  },
  {
   "cell_type": "markdown",
   "metadata": {},
   "source": [
    "### Counting using dictionaries"
   ]
  },
  {
   "cell_type": "code",
   "execution_count": 47,
   "metadata": {},
   "outputs": [
    {
     "name": "stdout",
     "output_type": "stream",
     "text": [
      "{'marquad': 3, 'cwen': 2, 'zhen': 5, 'csev': 3}\n"
     ]
    }
   ],
   "source": [
    "names_dict = {}\n",
    "\n",
    "for name in names:\n",
    "    if name not in names_dict:\n",
    "        names_dict[name] = 1\n",
    "    else:\n",
    "        names_dict[name] = names_dict[name] + 1\n",
    "print(names_dict)"
   ]
  },
  {
   "cell_type": "markdown",
   "metadata": {},
   "source": [
    "### Using .items()"
   ]
  },
  {
   "cell_type": "code",
   "execution_count": 48,
   "metadata": {},
   "outputs": [
    {
     "name": "stdout",
     "output_type": "stream",
     "text": [
      "Key:  marquad Value: 3\n",
      "Key:  cwen Value: 2\n",
      "Key:  zhen Value: 5\n",
      "Key:  csev Value: 3\n"
     ]
    }
   ],
   "source": [
    "for a,b in names_dict.items():\n",
    "    print(\"Key: \",a,\"Value:\",b)"
   ]
  },
  {
   "cell_type": "markdown",
   "metadata": {},
   "source": [
    "### .keys()"
   ]
  },
  {
   "cell_type": "code",
   "execution_count": 50,
   "metadata": {},
   "outputs": [
    {
     "name": "stdout",
     "output_type": "stream",
     "text": [
      "Key:  marquad\n",
      "Key:  cwen\n",
      "Key:  zhen\n",
      "Key:  csev\n"
     ]
    }
   ],
   "source": [
    "for a in names_dict.keys():\n",
    "    print(\"Key: \",a)"
   ]
  },
  {
   "cell_type": "markdown",
   "metadata": {},
   "source": [
    "### .values()"
   ]
  },
  {
   "cell_type": "code",
   "execution_count": 51,
   "metadata": {},
   "outputs": [
    {
     "name": "stdout",
     "output_type": "stream",
     "text": [
      "Values:  3\n",
      "Values:  2\n",
      "Values:  5\n",
      "Values:  3\n"
     ]
    }
   ],
   "source": [
    "for b in names_dict.values():\n",
    "    print(\"Values: \",b)"
   ]
  },
  {
   "cell_type": "code",
   "execution_count": null,
   "metadata": {},
   "outputs": [],
   "source": []
  }
 ],
 "metadata": {
  "kernelspec": {
   "display_name": "Python 3",
   "language": "python",
   "name": "python3"
  },
  "language_info": {
   "codemirror_mode": {
    "name": "ipython",
    "version": 3
   },
   "file_extension": ".py",
   "mimetype": "text/x-python",
   "name": "python",
   "nbconvert_exporter": "python",
   "pygments_lexer": "ipython3",
   "version": "3.7.3"
  }
 },
 "nbformat": 4,
 "nbformat_minor": 2
}
