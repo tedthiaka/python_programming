{
 "cells": [
  {
   "cell_type": "code",
   "execution_count": 1,
   "metadata": {},
   "outputs": [
    {
     "name": "stdout",
     "output_type": "stream",
     "text": [
      "{'source@collab.sakaiproject.org': 1644, 'stephen.marquard@uct.ac.za': 29, 'louis@media.berkeley.edu': 20, 'zqian@umich.edu': 165, 'rjlowe@iupui.edu': 79, 'cwen@iupui.edu': 157, 'gsilver@umich.edu': 24, 'wagnermr@iupui.edu': 43, 'antranig@caret.cam.ac.uk': 18, 'gopal.ramasammycook@gmail.com': 25, 'david.horwitz@uct.ac.za': 67, 'ray@media.berkeley.edu': 21, 'mmmay@indiana.edu': 161, 'stuart.freeman@et.gatech.edu': 17, 'tnguyen@iupui.edu': 6, 'chmaurer@iupui.edu': 107, 'aaronz@vt.edu': 82, 'ian@caret.cam.ac.uk': 79, 'csev@umich.edu': 19, 'jimeng@umich.edu': 93, 'josrodri@iupui.edu': 28, 'knoop@umich.edu': 5, 'bkirschn@umich.edu': 24, 'dlhaines@umich.edu': 72, 'hu2@iupui.edu': 7, 'sgithens@caret.cam.ac.uk': 43, 'arwhyte@umich.edu': 27, 'gbhatnag@umich.edu': 3, 'gjthomas@iupui.edu': 40, 'a.fish@lancaster.ac.uk': 14, 'ajpoland@iupui.edu': 41, 'lance@indiana.edu': 8, 'ssmail@indiana.edu': 5, 'jlrenfro@ucdavis.edu': 1, 'nuno@ufp.pt': 28, 'zach.thomas@txstate.edu': 14, 'ktsao@stanford.edu': 8, 'ostermmg@whitman.edu': 17, 'john.ellis@rsmart.com': 8, 'jleasia@umich.edu': 2, 'ggolden@umich.edu': 8, 'thoppaymallika@fhda.edu': 1, 'kimsooil@bu.edu': 14, 'bahollad@indiana.edu': 2, 'jzaremba@unicon.net': 5, 'mbreuker@loi.nl': 7}\n"
     ]
    }
   ],
   "source": [
    "fhandle = open(\"mbox.txt\",'r')\n",
    "count = 0\n",
    "occur = dict()\n",
    "\n",
    "for a in fhandle:\n",
    "    if a.startswith(\"From:\") or a.startswith(\"To:\"):\n",
    "        count = count + 1\n",
    "        b = a.split()\n",
    "        occur[b[1]] = occur.get(b[1],0) + 1\n",
    "print(occur)"
   ]
  }
 ],
 "metadata": {
  "kernelspec": {
   "display_name": "Python 3",
   "language": "python",
   "name": "python3"
  },
  "language_info": {
   "codemirror_mode": {
    "name": "ipython",
    "version": 3
   },
   "file_extension": ".py",
   "mimetype": "text/x-python",
   "name": "python",
   "nbconvert_exporter": "python",
   "pygments_lexer": "ipython3",
   "version": "3.7.3"
  }
 },
 "nbformat": 4,
 "nbformat_minor": 2
}
