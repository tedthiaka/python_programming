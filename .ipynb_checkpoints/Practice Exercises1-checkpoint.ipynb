{
 "cells": [
  {
   "cell_type": "markdown",
   "metadata": {},
   "source": [
    "# Question 1"
   ]
  },
  {
   "cell_type": "markdown",
   "metadata": {},
   "source": [
    "Take values of length and width of a rectangle from user and check if it is a square or not"
   ]
  },
  {
   "cell_type": "code",
   "execution_count": 23,
   "metadata": {},
   "outputs": [
    {
     "name": "stdout",
     "output_type": "stream",
     "text": [
      "Enter the length: 78\n",
      "Enter the width: 87\n",
      "This is not a square.\n"
     ]
    }
   ],
   "source": [
    "try:\n",
    "    length = float(input(\"Enter the length: \"))\n",
    "    width = float(input(\"Enter the width: \"))\n",
    "    if length == width:\n",
    "        print(\"This is a square.\")\n",
    "    else:\n",
    "        print(\"This is not a square.\")\n",
    "except:\n",
    "    print(\"Please enter a number\")"
   ]
  },
  {
   "cell_type": "markdown",
   "metadata": {},
   "source": [
    "# Question 2"
   ]
  },
  {
   "cell_type": "markdown",
   "metadata": {},
   "source": [
    "Take two integer values from the user and print the greatest among them."
   ]
  },
  {
   "cell_type": "code",
   "execution_count": 24,
   "metadata": {},
   "outputs": [
    {
     "name": "stdout",
     "output_type": "stream",
     "text": [
      "Enter number 'x': 89\n",
      "Enter number 'y': 09\n",
      "89 is greater than 9\n"
     ]
    }
   ],
   "source": [
    "try: \n",
    "    x = int(input(\"Enter number 'x': \"))\n",
    "    y = int(input(\"Enter number 'y': \"))\n",
    "\n",
    "    if x > y:\n",
    "        print(x,\"is greater than\",y)\n",
    "    elif y > x:\n",
    "        print(y,\"is greater than\", x)\n",
    "    else:\n",
    "        print(x,\"and\", y ,\"are the same.\")\n",
    "except:\n",
    "    print(\"Please enter an integer\")"
   ]
  },
  {
   "cell_type": "markdown",
   "metadata": {},
   "source": [
    "# Question 3"
   ]
  },
  {
   "cell_type": "markdown",
   "metadata": {},
   "source": [
    "A shop will give a discount of 10% if the cost of the purchased quantity is more than 1000.\n",
    "#Ask the user for quantity\n",
    "#Suppose, one unit will cost 100\n",
    "#Judge and print total cost for user"
   ]
  },
  {
   "cell_type": "code",
   "execution_count": 33,
   "metadata": {},
   "outputs": [
    {
     "name": "stdout",
     "output_type": "stream",
     "text": [
      "Enter the quantity of goods purchased: 20\n",
      "The cost is:  2000.0\n",
      "The Total Cost is 1800.0 and the discount is 200.0\n"
     ]
    }
   ],
   "source": [
    "try:\n",
    "    quantity = float(input(\"Enter the quantity of goods purchased: \"))\n",
    "    unit = 100\n",
    "    Cost = quantity * unit\n",
    "    print(\"The cost is: \", Cost)\n",
    "    if Cost > 1000:\n",
    "        Discount = 10/100*Cost\n",
    "        Total_cost = Cost - Discount\n",
    "    else:\n",
    "        Discount = 0\n",
    "        Total_cost = Cost\n",
    "    print(\"The Total Cost is\",Total_cost,\"and the discount is\",Discount)\n",
    "except:\n",
    "    print(\"Please enter a number\")"
   ]
  },
  {
   "cell_type": "markdown",
   "metadata": {},
   "source": [
    "# Question 4"
   ]
  },
  {
   "cell_type": "code",
   "execution_count": null,
   "metadata": {},
   "outputs": [],
   "source": []
  }
 ],
 "metadata": {
  "kernelspec": {
   "display_name": "Python 3",
   "language": "python",
   "name": "python3"
  },
  "language_info": {
   "codemirror_mode": {
    "name": "ipython",
    "version": 3
   },
   "file_extension": ".py",
   "mimetype": "text/x-python",
   "name": "python",
   "nbconvert_exporter": "python",
   "pygments_lexer": "ipython3",
   "version": "3.7.3"
  }
 },
 "nbformat": 4,
 "nbformat_minor": 2
}
