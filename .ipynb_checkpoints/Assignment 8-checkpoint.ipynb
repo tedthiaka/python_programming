{
 "cells": [
  {
   "cell_type": "code",
   "execution_count": 3,
   "metadata": {},
   "outputs": [
    {
     "name": "stdout",
     "output_type": "stream",
     "text": [
      "Most occuring emails:\n",
      "('source@collab.sakaiproject.org', 1644)\n",
      "('zqian@umich.edu', 165)\n",
      "('mmmay@indiana.edu', 161)\n",
      "('cwen@iupui.edu', 157)\n",
      "('chmaurer@iupui.edu', 107)\n",
      "('jimeng@umich.edu', 93)\n",
      "('aaronz@vt.edu', 82)\n",
      "('rjlowe@iupui.edu', 79)\n",
      "('ian@caret.cam.ac.uk', 79)\n",
      "('dlhaines@umich.edu', 72)\n"
     ]
    }
   ],
   "source": [
    "fhandle = open(\"mbox.txt\",\"r\")\n",
    "email = dict()\n",
    "def occur(x):\n",
    "    return x[1]\n",
    "for a in fhandle:\n",
    "    if a.startswith(\"From:\") or a.startswith(\"To:\"):\n",
    "        b = a.split()\n",
    "        email[b[1]] = email.get(b[1],0) + 1\n",
    "c = sorted(email.items(), key = occur, reverse = True )\n",
    "print(\"Most occuring emails:\")\n",
    "for d in range(10):\n",
    "    print(c[d])"
   ]
  },
  {
   "cell_type": "code",
   "execution_count": null,
   "metadata": {},
   "outputs": [],
   "source": []
  }
 ],
 "metadata": {
  "kernelspec": {
   "display_name": "Python 3",
   "language": "python",
   "name": "python3"
  },
  "language_info": {
   "codemirror_mode": {
    "name": "ipython",
    "version": 3
   },
   "file_extension": ".py",
   "mimetype": "text/x-python",
   "name": "python",
   "nbconvert_exporter": "python",
   "pygments_lexer": "ipython3",
   "version": "3.7.3"
  }
 },
 "nbformat": 4,
 "nbformat_minor": 2
}
