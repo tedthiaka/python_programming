{
 "cells": [
  {
   "cell_type": "code",
   "execution_count": 16,
   "metadata": {},
   "outputs": [
    {
     "name": "stdout",
     "output_type": "stream",
     "text": [
      "10 most frequent emails:\n",
      "('source@collab.sakaiproject.org', 1644)\n",
      "('zqian@umich.edu', 165)\n",
      "('mmmay@indiana.edu', 161)\n",
      "('cwen@iupui.edu', 157)\n",
      "('chmaurer@iupui.edu', 107)\n",
      "('jimeng@umich.edu', 93)\n",
      "('aaronz@vt.edu', 82)\n",
      "('rjlowe@iupui.edu', 79)\n",
      "('ian@caret.cam.ac.uk', 79)\n",
      "('dlhaines@umich.edu', 72)\n",
      "46 Individual emails 3288 emails in total\n"
     ]
    }
   ],
   "source": [
    "fhandle = open(\"mbox.txt\",'r')\n",
    "count = 0\n",
    "occur = dict()\n",
    "def order(x):\n",
    "    return x[1]\n",
    "for a in fhandle:\n",
    "    if a.startswith(\"From:\") or a.startswith(\"To:\"):\n",
    "        count = count + 1\n",
    "        b = a.split()\n",
    "        occur[b[1]] = occur.get(b[1],0) + 1\n",
    "each_email = len(occur)\n",
    "c = sorted(occur.items(), key= order, reverse=True)\n",
    "print(\"10 most frequent emails:\")\n",
    "end = 0\n",
    "for frequent in c:\n",
    "    print(frequent)\n",
    "    end = end +1\n",
    "    if end == 10:\n",
    "        break\n",
    "print(each_email,\"Individual emails\",count,\"emails in total\")"
   ]
  }
 ],
 "metadata": {
  "kernelspec": {
   "display_name": "Python 3",
   "language": "python",
   "name": "python3"
  },
  "language_info": {
   "codemirror_mode": {
    "name": "ipython",
    "version": 3
   },
   "file_extension": ".py",
   "mimetype": "text/x-python",
   "name": "python",
   "nbconvert_exporter": "python",
   "pygments_lexer": "ipython3",
   "version": "3.7.3"
  }
 },
 "nbformat": 4,
 "nbformat_minor": 2
}
