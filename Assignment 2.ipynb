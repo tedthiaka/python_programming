{
 "cells": [
  {
   "cell_type": "markdown",
   "metadata": {},
   "source": [
    "# Exercise 1"
   ]
  },
  {
   "cell_type": "code",
   "execution_count": 6,
   "metadata": {},
   "outputs": [
    {
     "name": "stdout",
     "output_type": "stream",
     "text": [
      "How many hours worked? 45\n",
      "What is the rate per hour? 10\n"
     ]
    },
    {
     "data": {
      "text/plain": [
       "475.0"
      ]
     },
     "execution_count": 6,
     "metadata": {},
     "output_type": "execute_result"
    }
   ],
   "source": [
    "hours = float(input(\"How many hours worked? \"))\n",
    "rate = float(input(\"What is the rate per hour? \"))\n",
    "\n",
    "if hours > 40:\n",
    "    bonus_rate = 1.5 * rate\n",
    "    add_hours = hours - 40\n",
    "Gross_Pay = 40 * rate + add_hours * bonus_rate \n",
    "\n",
    "Gross_Pay"
   ]
  },
  {
   "cell_type": "markdown",
   "metadata": {},
   "source": [
    "# Exercise 2"
   ]
  },
  {
   "cell_type": "code",
   "execution_count": 9,
   "metadata": {},
   "outputs": [
    {
     "name": "stdout",
     "output_type": "stream",
     "text": [
      "How many hours worked? forty\n",
      "Error, please enter numeric input\n"
     ]
    }
   ],
   "source": [
    "try:\n",
    "    hours = float(input(\"How many hours worked? \"))\n",
    "    rate = float(input(\"What is the rate per hour? \"))\n",
    "\n",
    "    if hours > 40:\n",
    "        bonus_rate = 1.5 * rate\n",
    "        add_hours = hours - 40\n",
    "    Gross_Pay = 40 * rate + add_hours * bonus_rate \n",
    "\n",
    "    Gross_Pay\n",
    "except:\n",
    "    print(\"Error, please enter numeric input\")"
   ]
  },
  {
   "cell_type": "code",
   "execution_count": null,
   "metadata": {},
   "outputs": [],
   "source": []
  }
 ],
 "metadata": {
  "kernelspec": {
   "display_name": "Python 3",
   "language": "python",
   "name": "python3"
  },
  "language_info": {
   "codemirror_mode": {
    "name": "ipython",
    "version": 3
   },
   "file_extension": ".py",
   "mimetype": "text/x-python",
   "name": "python",
   "nbconvert_exporter": "python",
   "pygments_lexer": "ipython3",
   "version": "3.7.3"
  }
 },
 "nbformat": 4,
 "nbformat_minor": 2
}
