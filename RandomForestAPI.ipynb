{
 "cells": [
  {
   "cell_type": "code",
   "execution_count": null,
   "metadata": {},
   "outputs": [],
   "source": [
    "import pickle\n",
    "from flask import Flask,request\n",
    "import numpy as np\n",
    "import pandas as pd\n",
    "with open('random_forest.pkl','rb') as model_file:\n",
    "    model = pickle.load(model_file)\n",
    "\n",
    "app = Flask(__name__)\n",
    "\n",
    "@app.route('/predict',methods=['POST'])\n",
    "def predict_iris():\n",
    "    \"\"\"\n",
    "    Example endpoint returning a prediction of iris\n",
    "    \n",
    "    \"\"\"\n",
    "    s_length = request.form['s_length']\n",
    "    s_width = request.form['s_width']\n",
    "    p_length = request.form['p_length']\n",
    "    p_width = request.form['p_width']\n",
    "    \n",
    "    prediction = model.predict(np.array([[s_length,s_width,p_length,p_width]]))\n",
    "    if prediction == [0]:\n",
    "        return 'Iris Setosa'\n",
    "    if prediction == [1]:\n",
    "        return 'Iris Versicolor'\n",
    "    else:\n",
    "        return 'Iris Virginica'\n",
    "    \n",
    "\n",
    "if __name__=='__main__':\n",
    "    app.run(host='0.0.0.0', port=5000)"
   ]
  }
 ],
 "metadata": {
  "kernelspec": {
   "display_name": "Python 3",
   "language": "python",
   "name": "python3"
  },
  "language_info": {
   "codemirror_mode": {
    "name": "ipython",
    "version": 3
   },
   "file_extension": ".py",
   "mimetype": "text/x-python",
   "name": "python",
   "nbconvert_exporter": "python",
   "pygments_lexer": "ipython3",
   "version": "3.7.3"
  }
 },
 "nbformat": 4,
 "nbformat_minor": 2
}
